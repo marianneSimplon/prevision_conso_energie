{
 "cells": [
  {
   "cell_type": "code",
   "execution_count": 1,
   "id": "2b52a130",
   "metadata": {},
   "outputs": [],
   "source": [
    "import numpy as np\n",
    "import pandas as pd\n",
    "import matplotlib.pyplot as plt\n",
    "\n",
    "#Preprocessing\n",
    "from sklearn.model_selection import train_test_split\n",
    "from sklearn.preprocessing import MinMaxScaler\n",
    "\n",
    "# Modélisation\n",
    "import tensorflow as tf\n",
    "from tensorflow.keras.preprocessing.sequence import TimeseriesGenerator\n",
    "from tensorflow.keras import Sequential\n",
    "from tensorflow.keras.layers import InputLayer\n",
    "from tensorflow.keras.layers import SimpleRNN\n",
    "from tensorflow.keras.layers import Dropout\n",
    "from tensorflow.keras.layers import Dense\n",
    "from tensorflow.keras import callbacks\n",
    "\n",
    "#Evaluate\n",
    "import random\n",
    "from math import ceil\n",
    "from sklearn.metrics import mean_squared_log_error\n",
    "from sklearn.metrics import mean_squared_error\n",
    "from sklearn.metrics import mean_absolute_error"
   ]
  },
  {
   "cell_type": "markdown",
   "id": "8b6ebfda",
   "metadata": {},
   "source": [
    "# Données manquantes : interpolation"
   ]
  },
  {
   "cell_type": "code",
   "execution_count": 2,
   "id": "d0606227",
   "metadata": {
    "scrolled": true
   },
   "outputs": [],
   "source": [
    "df_inter = pd.read_csv('../data/interpolation_linear.csv', delimiter=\",\")"
   ]
  },
  {
   "cell_type": "code",
   "execution_count": 3,
   "id": "4fcb1289",
   "metadata": {},
   "outputs": [],
   "source": [
    "df_inter.DateTime = pd.to_datetime(df_inter.DateTime,format=\"%Y-%m-%d %H:%M:%S\")"
   ]
  },
  {
   "cell_type": "code",
   "execution_count": 4,
   "id": "1d6dcdbd",
   "metadata": {},
   "outputs": [],
   "source": [
    "df_inter  = df_inter.set_index('DateTime')"
   ]
  },
  {
   "cell_type": "markdown",
   "id": "d751aa4e",
   "metadata": {},
   "source": [
    "# Consommation totale par HEURE"
   ]
  },
  {
   "cell_type": "code",
   "execution_count": 5,
   "id": "ba86911b",
   "metadata": {},
   "outputs": [],
   "source": [
    "df_heure = df_inter.copy()\n",
    "df_final = df_heure.resample('H').sum()"
   ]
  },
  {
   "cell_type": "markdown",
   "id": "e5ec1484",
   "metadata": {},
   "source": [
    "# Division dataset train - test"
   ]
  },
  {
   "cell_type": "code",
   "execution_count": 6,
   "id": "c0db3182",
   "metadata": {},
   "outputs": [
    {
     "data": {
      "text/plain": [
       "count    34589.000000\n",
       "mean        65.414219\n",
       "std         53.652934\n",
       "min          2.804000\n",
       "25%         20.572000\n",
       "50%         48.192940\n",
       "75%         94.722000\n",
       "max        393.632000\n",
       "Name: Global_active_power, dtype: float64"
      ]
     },
     "execution_count": 6,
     "metadata": {},
     "output_type": "execute_result"
    }
   ],
   "source": [
    "df_final.Global_active_power.describe()"
   ]
  },
  {
   "cell_type": "code",
   "execution_count": 7,
   "id": "96f352db",
   "metadata": {},
   "outputs": [],
   "source": [
    "y = df_final.Global_active_power"
   ]
  },
  {
   "cell_type": "code",
   "execution_count": 8,
   "id": "371e493a",
   "metadata": {},
   "outputs": [],
   "source": [
    "y_train, y_test = train_test_split(y, test_size=0.3, shuffle=False)"
   ]
  },
  {
   "cell_type": "markdown",
   "id": "64ee2100",
   "metadata": {},
   "source": [
    "# Scaling : MinMaxScaler()"
   ]
  },
  {
   "cell_type": "markdown",
   "id": "cb51f6c3",
   "metadata": {},
   "source": [
    "https://machinelearningmastery.com/normalize-standardize-time-series-data-python/"
   ]
  },
  {
   "cell_type": "code",
   "execution_count": 9,
   "id": "8d236fb1",
   "metadata": {},
   "outputs": [],
   "source": [
    "# prepare data for normalization\n",
    "values = y_train.values # values est un array\n",
    "values = values.reshape((len(values), 1)) # OU values.reshape(-1, 1)), deviens de dimension 2D une espèce de liste disposée en colonne\n",
    "values_test = y_test.values\n",
    "values_test = values_test.reshape((len(values_test), 1))\n",
    "# train the normalization\n",
    "scaler = MinMaxScaler(feature_range=(0, 1))\n",
    "scaler = scaler.fit(values)\n",
    "normalized_train = scaler.transform(values)\n",
    "normalized_test = scaler.transform(values_test)"
   ]
  },
  {
   "cell_type": "code",
   "execution_count": 10,
   "id": "dcf7b181",
   "metadata": {},
   "outputs": [],
   "source": [
    "# y_train1 = y_train.copy()\n",
    "# y_test1 = y_test.copy()"
   ]
  },
  {
   "cell_type": "code",
   "execution_count": 11,
   "id": "282cb51a",
   "metadata": {},
   "outputs": [],
   "source": [
    "# y_train1 = y_train1.reset_index()\n",
    "# y_test1 = y_test1.reset_index()\n",
    "# y_train1.DateTime"
   ]
  },
  {
   "cell_type": "code",
   "execution_count": 12,
   "id": "682871f6",
   "metadata": {},
   "outputs": [],
   "source": [
    "# train1_generator = TimeseriesGenerator(normalized_train, normalized_train, length=length, batch_size=batch_size, shuffle=shuffle)"
   ]
  },
  {
   "cell_type": "markdown",
   "id": "155a0132",
   "metadata": {},
   "source": [
    "# Data Generator"
   ]
  },
  {
   "cell_type": "code",
   "execution_count": 13,
   "id": "41dc0b4d",
   "metadata": {},
   "outputs": [],
   "source": [
    "# normalized_train.shape[0]"
   ]
  },
  {
   "cell_type": "code",
   "execution_count": 14,
   "id": "b7086120",
   "metadata": {},
   "outputs": [],
   "source": [
    "# normalized_train.shape[0]-24"
   ]
  },
  {
   "cell_type": "code",
   "execution_count": 15,
   "id": "db5ba3cb",
   "metadata": {},
   "outputs": [],
   "source": [
    "#Parametrages\n",
    "# batch_size = 16384\n",
    "batch_size = 516\n",
    "length = 24\n",
    "shuffle = True"
   ]
  },
  {
   "cell_type": "code",
   "execution_count": 21,
   "id": "a4d73963",
   "metadata": {},
   "outputs": [],
   "source": [
    "train_generator = TimeseriesGenerator(normalized_train, normalized_train, length=length, batch_size=batch_size, shuffle=shuffle)\n",
    "test_generator = TimeseriesGenerator(normalized_test, normalized_test, length=length, batch_size=batch_size, shuffle=shuffle)\n",
    "# OU au lieu de faire un train-test split, \n",
    "# on utilise start_index et end_index pour définir le début et la fin des train et test generators"
   ]
  },
  {
   "cell_type": "code",
   "execution_count": 22,
   "id": "fdb0745a",
   "metadata": {},
   "outputs": [],
   "source": [
    "# normalized_train"
   ]
  },
  {
   "cell_type": "code",
   "execution_count": 23,
   "id": "1aea4f65",
   "metadata": {},
   "outputs": [],
   "source": [
    "# normalized_train.shape"
   ]
  },
  {
   "cell_type": "code",
   "execution_count": 24,
   "id": "aab5eb32",
   "metadata": {},
   "outputs": [],
   "source": [
    "# plt.subplots(figsize=(16,5))\n",
    "\n",
    "# plt.plot(pd.Series(train_generator[0][0][0].reshape(24,)))\n",
    "\n",
    "# b = pd.Series(train_generator[0][0][1].reshape(24,))\n",
    "# b.index = b.index+1\n",
    "# plt.plot(b)\n",
    "\n",
    "# c= pd.Series(train_generator[0][0][2].reshape(24,))\n",
    "# c.index = c.index+2\n",
    "# plt.plot(c)\n",
    "\n",
    "# plt.show()"
   ]
  },
  {
   "cell_type": "code",
   "execution_count": 25,
   "id": "f1fd7f2f",
   "metadata": {},
   "outputs": [],
   "source": [
    "# plt.subplots(figsize=(16,5))\n",
    "\n",
    "# plt.plot(normalized_train)\n",
    "# nt = pd.Series(normalized_test.reshape(10377,))\n",
    "# nt.index=nt.index+len(normalized_train)\n",
    "# plt.plot(nt)\n",
    "\n",
    "\n",
    "# for i in range(0, batch_size):\n",
    "#     tg= pd.Series(train_generator[0][0][i].reshape(24,))\n",
    "#     tg.index = tg.index+i\n",
    "#     plt.plot(tg)\n",
    "\n",
    "# plt.show()"
   ]
  },
  {
   "cell_type": "code",
   "execution_count": 26,
   "id": "fec7a24a",
   "metadata": {},
   "outputs": [
    {
     "data": {
      "text/plain": [
       "(array([[[0.0478622 ],\n",
       "         [0.05460496],\n",
       "         [0.0475463 ],\n",
       "         ...,\n",
       "         [0.0215903 ],\n",
       "         [0.05487944],\n",
       "         [0.26466628]],\n",
       " \n",
       "        [[0.02770125],\n",
       "         [0.01994863],\n",
       "         [0.02635477],\n",
       "         ...,\n",
       "         [0.09529975],\n",
       "         [0.08036417],\n",
       "         [0.09652712]],\n",
       " \n",
       "        [[0.19461822],\n",
       "         [0.17242719],\n",
       "         [0.03550566],\n",
       "         ...,\n",
       "         [0.27624083],\n",
       "         [0.28670713],\n",
       "         [0.20916021]],\n",
       " \n",
       "        ...,\n",
       " \n",
       "        [[0.0145627 ],\n",
       "         [0.02279695],\n",
       "         [0.01852446],\n",
       "         ...,\n",
       "         [0.22051726],\n",
       "         [0.01519451],\n",
       "         [0.0231025 ]],\n",
       " \n",
       "        [[0.20122633],\n",
       "         [0.25547914],\n",
       "         [0.46307018],\n",
       "         ...,\n",
       "         [0.2771264 ],\n",
       "         [0.25904213],\n",
       "         [0.1905011 ]],\n",
       " \n",
       "        [[0.22601193],\n",
       "         [0.19203919],\n",
       "         [0.20779301],\n",
       "         ...,\n",
       "         [0.25411712],\n",
       "         [0.08433629],\n",
       "         [0.05254381]]]),\n",
       " array([[2.67193520e-01],\n",
       "        [8.85621660e-02],\n",
       "        [1.84473008e-01],\n",
       "        [1.52281767e-01],\n",
       "        [1.53555744e-01],\n",
       "        [3.22999959e-02],\n",
       "        [3.76652028e-02],\n",
       "        [1.75762315e-01],\n",
       "        [3.70903592e-01],\n",
       "        [1.53685214e-01],\n",
       "        [2.97623980e-01],\n",
       "        [1.25621453e-01],\n",
       "        [3.38411982e-01],\n",
       "        [6.26890251e-02],\n",
       "        [9.84329038e-02],\n",
       "        [4.24141360e-03],\n",
       "        [2.67939263e-01],\n",
       "        [2.96059991e-01],\n",
       "        [3.04252807e-02],\n",
       "        [1.24911961e-01],\n",
       "        [7.59751626e-01],\n",
       "        [4.01919253e-01],\n",
       "        [4.30107304e-01],\n",
       "        [3.43756473e-01],\n",
       "        [1.89755355e-01],\n",
       "        [3.65880184e-02],\n",
       "        [1.15574636e-01],\n",
       "        [4.43152629e-01],\n",
       "        [1.84198533e-01],\n",
       "        [2.98944566e-01],\n",
       "        [2.13360194e-01],\n",
       "        [1.33871235e-02],\n",
       "        [1.80941086e-01],\n",
       "        [3.30462568e-01],\n",
       "        [2.68467498e-01],\n",
       "        [9.17212164e-02],\n",
       "        [4.81470357e-02],\n",
       "        [1.50391515e-02],\n",
       "        [9.04886688e-02],\n",
       "        [4.73650412e-02],\n",
       "        [2.37741849e-01],\n",
       "        [6.01089613e-01],\n",
       "        [3.53896507e-01],\n",
       "        [2.38793139e-01],\n",
       "        [4.79657787e-02],\n",
       "        [2.84754733e-01],\n",
       "        [2.93962589e-01],\n",
       "        [2.30072088e-01],\n",
       "        [5.12076894e-02],\n",
       "        [4.70853876e-02],\n",
       "        [1.19401748e-01],\n",
       "        [2.31599826e-01],\n",
       "        [7.59466794e-02],\n",
       "        [1.97896383e-01],\n",
       "        [2.06037411e-01],\n",
       "        [4.34012098e-01],\n",
       "        [1.71831628e-02],\n",
       "        [3.97631230e-01],\n",
       "        [2.00459875e-01],\n",
       "        [2.84728840e-02],\n",
       "        [1.95685048e-01],\n",
       "        [1.18340100e-01],\n",
       "        [3.08784232e-01],\n",
       "        [1.30971123e-01],\n",
       "        [2.92015371e-01],\n",
       "        [2.23722915e-02],\n",
       "        [9.11308365e-02],\n",
       "        [3.62762564e-01],\n",
       "        [2.18544144e-02],\n",
       "        [5.21812984e-02],\n",
       "        [2.55520570e-02],\n",
       "        [1.29505531e-01],\n",
       "        [2.95189957e-02],\n",
       "        [1.57952521e-02],\n",
       "        [2.82289638e-01],\n",
       "        [2.33743837e-01],\n",
       "        [1.89284087e-02],\n",
       "        [5.29430957e-01],\n",
       "        [1.13777603e-02],\n",
       "        [8.07007913e-02],\n",
       "        [3.12176327e-02],\n",
       "        [2.09222356e-02],\n",
       "        [1.70826946e-01],\n",
       "        [2.19258814e-01],\n",
       "        [2.21729088e-01],\n",
       "        [1.78620997e-01],\n",
       "        [2.09491652e-01],\n",
       "        [2.20154742e-01],\n",
       "        [1.25621453e-01],\n",
       "        [1.82349712e-01],\n",
       "        [3.52570742e-02],\n",
       "        [2.71300286e-01],\n",
       "        [2.06394747e-01],\n",
       "        [2.23826490e-02],\n",
       "        [3.49100965e-02],\n",
       "        [2.34132245e-02],\n",
       "        [1.34202676e-01],\n",
       "        [5.17566392e-02],\n",
       "        [2.10496333e-01],\n",
       "        [2.30740150e-01],\n",
       "        [1.97839417e-01],\n",
       "        [3.31752082e-02],\n",
       "        [2.33666156e-02],\n",
       "        [1.55829225e-02],\n",
       "        [3.45035630e-01],\n",
       "        [9.41500601e-03],\n",
       "        [2.61155073e-01],\n",
       "        [2.25431910e-02],\n",
       "        [3.06583254e-02],\n",
       "        [2.25934250e-01],\n",
       "        [6.36781704e-02],\n",
       "        [2.67794258e-02],\n",
       "        [2.06477607e-02],\n",
       "        [3.89132867e-02],\n",
       "        [3.14936612e-01],\n",
       "        [1.74369226e-02],\n",
       "        [2.89959398e-02],\n",
       "        [1.05413887e-01],\n",
       "        [7.64127688e-02],\n",
       "        [2.40243195e-02],\n",
       "        [6.05817832e-01],\n",
       "        [1.40696855e-01],\n",
       "        [1.99848780e-02],\n",
       "        [9.79771720e-02],\n",
       "        [2.82900733e-01],\n",
       "        [4.36699880e-01],\n",
       "        [4.48636947e-02],\n",
       "        [1.47506940e-01],\n",
       "        [1.70174421e-02],\n",
       "        [1.56471392e-01],\n",
       "        [1.56657828e-02],\n",
       "        [5.32015163e-02],\n",
       "        [1.20877698e-01],\n",
       "        [5.48949745e-04],\n",
       "        [3.14247835e-02],\n",
       "        [2.40087832e-02],\n",
       "        [2.23153250e-02],\n",
       "        [2.79291130e-01],\n",
       "        [2.09703981e-01],\n",
       "        [2.80761901e-01],\n",
       "        [2.27275552e-01],\n",
       "        [6.60293326e-03],\n",
       "        [2.08238389e-02],\n",
       "        [1.96705266e-01],\n",
       "        [2.70176493e-02],\n",
       "        [2.43697435e-01],\n",
       "        [3.68262419e-02],\n",
       "        [3.18950160e-01],\n",
       "        [2.97960600e-01],\n",
       "        [4.84826200e-01],\n",
       "        [2.72817666e-02],\n",
       "        [6.77284874e-01],\n",
       "        [3.78397274e-01],\n",
       "        [4.60392758e-02],\n",
       "        [2.62511911e-02],\n",
       "        [2.80016158e-02],\n",
       "        [3.63855284e-01],\n",
       "        [5.85874384e-02],\n",
       "        [6.71168745e-02],\n",
       "        [1.61924639e-01],\n",
       "        [4.82314496e-01],\n",
       "        [9.81791441e-02],\n",
       "        [6.45274889e-03],\n",
       "        [3.39665244e-01],\n",
       "        [2.38648134e-01],\n",
       "        [3.72509011e-02],\n",
       "        [4.15337449e-02],\n",
       "        [4.45943986e-02],\n",
       "        [2.35385508e-01],\n",
       "        [3.41902473e-01],\n",
       "        [2.89016862e-01],\n",
       "        [2.59818950e-02],\n",
       "        [2.66250984e-01],\n",
       "        [1.89403198e-01],\n",
       "        [3.68987447e-02],\n",
       "        [4.88011145e-01],\n",
       "        [3.05858226e-02],\n",
       "        [3.34921490e-01],\n",
       "        [2.77261051e-01],\n",
       "        [2.74526660e-02],\n",
       "        [2.06684758e-02],\n",
       "        [1.79211377e-01],\n",
       "        [2.44784977e-01],\n",
       "        [2.56090235e-02],\n",
       "        [3.21736338e-01],\n",
       "        [7.21402826e-03],\n",
       "        [2.80471890e-01],\n",
       "        [4.49646808e-01],\n",
       "        [3.77998509e-02],\n",
       "        [1.71671086e-01],\n",
       "        [2.90244231e-01],\n",
       "        [5.38592203e-02],\n",
       "        [1.25269296e-01],\n",
       "        [1.67642002e-01],\n",
       "        [4.07113560e-01],\n",
       "        [5.76397232e-02],\n",
       "        [1.65653354e-01],\n",
       "        [3.06635042e-02],\n",
       "        [1.95705763e-02],\n",
       "        [2.09481294e-02],\n",
       "        [1.17936156e-01],\n",
       "        [9.61179931e-03],\n",
       "        [7.85049923e-02],\n",
       "        [5.29752040e-01],\n",
       "        [2.52102581e-02],\n",
       "        [1.88341550e-01],\n",
       "        [3.18484070e-01],\n",
       "        [1.18127771e-01],\n",
       "        [1.95353606e-01],\n",
       "        [1.78719393e-02],\n",
       "        [2.26286407e-01],\n",
       "        [1.50391515e-02],\n",
       "        [3.88718565e-02],\n",
       "        [2.28694535e-02],\n",
       "        [1.15900899e-01],\n",
       "        [2.57783693e-01],\n",
       "        [4.70600116e-01],\n",
       "        [4.54825579e-01],\n",
       "        [1.07495753e-01],\n",
       "        [9.14104901e-02],\n",
       "        [8.47764842e-03],\n",
       "        [5.38177901e-02],\n",
       "        [3.13263869e-02],\n",
       "        [5.34014169e-01],\n",
       "        [7.73345900e-02],\n",
       "        [3.63187223e-02],\n",
       "        [4.40350914e-02],\n",
       "        [1.20510005e-02],\n",
       "        [6.64436343e-03],\n",
       "        [4.61842814e-02],\n",
       "        [1.61888387e-02],\n",
       "        [5.36261756e-02],\n",
       "        [4.01572275e-01],\n",
       "        [2.17839831e-01],\n",
       "        [2.39466379e-02],\n",
       "        [6.89139081e-02],\n",
       "        [3.05894477e-01],\n",
       "        [4.04099515e-02],\n",
       "        [3.80675933e-01],\n",
       "        [1.85907528e-01],\n",
       "        [3.19359282e-01],\n",
       "        [1.80692505e-01],\n",
       "        [2.57089738e-01],\n",
       "        [9.23944566e-02],\n",
       "        [5.34107387e-01],\n",
       "        [3.06598790e-01],\n",
       "        [2.83537722e-02],\n",
       "        [1.55010979e-01],\n",
       "        [2.80741186e-02],\n",
       "        [3.14247835e-02],\n",
       "        [3.38329121e-02],\n",
       "        [2.09843808e-02],\n",
       "        [1.05791938e-01],\n",
       "        [2.03282305e-01],\n",
       "        [1.02140904e-01],\n",
       "        [2.07679082e-01],\n",
       "        [2.96484650e-02],\n",
       "        [2.45059452e-02],\n",
       "        [1.89594813e-02],\n",
       "        [3.56506608e-02],\n",
       "        [2.50393587e-02],\n",
       "        [3.68055268e-02],\n",
       "        [3.69453536e-02],\n",
       "        [5.15028794e-02],\n",
       "        [9.84484402e-03],\n",
       "        [2.15333306e-02],\n",
       "        [3.44051663e-01],\n",
       "        [2.14142188e-02],\n",
       "        [1.93603182e-01],\n",
       "        [6.12493268e-02],\n",
       "        [3.68950734e-02],\n",
       "        [3.79407134e-01],\n",
       "        [9.37046858e-02],\n",
       "        [4.09775448e-01],\n",
       "        [6.74172432e-02],\n",
       "        [1.95726478e-01],\n",
       "        [4.07051415e-02],\n",
       "        [3.19996271e-02],\n",
       "        [6.20499648e-01],\n",
       "        [2.15934043e-01],\n",
       "        [4.57544434e-02],\n",
       "        [3.50861748e-02],\n",
       "        [1.32680118e-02],\n",
       "        [1.57496789e-01],\n",
       "        [5.86651199e-01],\n",
       "        [7.74122716e-02],\n",
       "        [2.98613125e-01],\n",
       "        [2.30507105e-02],\n",
       "        [3.79966442e-02],\n",
       "        [3.29965406e-01],\n",
       "        [2.58296391e-01],\n",
       "        [2.71569582e-01],\n",
       "        [2.95241745e-02],\n",
       "        [3.40814931e-02],\n",
       "        [2.13976468e-01],\n",
       "        [3.00596594e-01],\n",
       "        [2.54070514e-02],\n",
       "        [1.72696483e-01],\n",
       "        [1.13415089e-02],\n",
       "        [2.44800514e-02],\n",
       "        [2.81984091e-02],\n",
       "        [1.89915897e-01],\n",
       "        [5.47774164e-01],\n",
       "        [5.74014998e-02],\n",
       "        [1.22845631e-01],\n",
       "        [1.56191739e-02],\n",
       "        [1.02021792e-02],\n",
       "        [2.72765878e-02],\n",
       "        [3.62871318e-01],\n",
       "        [1.85244645e-02],\n",
       "        [6.38438911e-02],\n",
       "        [2.13727887e-02],\n",
       "        [2.49093715e-01],\n",
       "        [4.16942868e-02],\n",
       "        [3.26469735e-02],\n",
       "        [4.86234826e-02],\n",
       "        [3.93151593e-01],\n",
       "        [2.55106268e-02],\n",
       "        [3.62058251e-01],\n",
       "        [2.68602146e-01],\n",
       "        [2.65080582e-01],\n",
       "        [9.20785516e-03],\n",
       "        [4.71941418e-02],\n",
       "        [2.66447777e-02],\n",
       "        [4.54509674e-01],\n",
       "        [2.25172971e-02],\n",
       "        [4.41598997e-01],\n",
       "        [2.42930977e-01],\n",
       "        [1.01970005e-02],\n",
       "        [3.03672785e-01],\n",
       "        [2.12329618e-02],\n",
       "        [4.57130132e-02],\n",
       "        [6.00841032e-02],\n",
       "        [3.04201019e-02],\n",
       "        [2.39052078e-02],\n",
       "        [3.31959233e-02],\n",
       "        [2.72455152e-02],\n",
       "        [3.61892530e-02],\n",
       "        [2.18544144e-02],\n",
       "        [5.68629076e-02],\n",
       "        [2.56763475e-02],\n",
       "        [1.18417782e-01],\n",
       "        [6.11975390e-02],\n",
       "        [5.59773377e-02],\n",
       "        [2.71279571e-01],\n",
       "        [7.29688859e-02],\n",
       "        [2.33593653e-01],\n",
       "        [3.13056718e-02],\n",
       "        [5.83233210e-02],\n",
       "        [2.10107926e-01],\n",
       "        [2.28590960e-02],\n",
       "        [2.13033931e-01],\n",
       "        [7.87173220e-03],\n",
       "        [3.11399511e-02],\n",
       "        [1.97362970e-02],\n",
       "        [2.69280565e-01],\n",
       "        [1.18593860e-02],\n",
       "        [1.15403737e-01],\n",
       "        [6.06848407e-02],\n",
       "        [2.68726437e-02],\n",
       "        [1.99315366e-01],\n",
       "        [1.91044869e-02],\n",
       "        [1.25170899e-02],\n",
       "        [1.98745702e-01],\n",
       "        [1.62354477e-01],\n",
       "        [2.46768447e-02],\n",
       "        [1.09308323e-01],\n",
       "        [2.53143514e-01],\n",
       "        [5.29575962e-01],\n",
       "        [2.88493806e-01],\n",
       "        [1.98657663e-02],\n",
       "        [9.77234122e-03],\n",
       "        [1.53597174e-01],\n",
       "        [9.27000041e-03],\n",
       "        [8.44502217e-02],\n",
       "        [2.08290177e-01],\n",
       "        [6.50816174e-02],\n",
       "        [2.33593653e-01],\n",
       "        [2.45888056e-02],\n",
       "        [1.81282885e-01],\n",
       "        [4.06585325e-02],\n",
       "        [6.11768240e-02],\n",
       "        [2.04794506e-01],\n",
       "        [5.25904213e-02],\n",
       "        [2.11770311e-01],\n",
       "        [3.96170817e-01],\n",
       "        [2.42195592e-01],\n",
       "        [2.64319302e-01],\n",
       "        [2.69762191e-02],\n",
       "        [8.87848531e-02],\n",
       "        [3.46480507e-01],\n",
       "        [4.17181091e-01],\n",
       "        [3.81753118e-01],\n",
       "        [4.49957534e-01],\n",
       "        [3.93110163e-01],\n",
       "        [4.62013713e-01],\n",
       "        [1.51012968e-02],\n",
       "        [3.37365870e-01],\n",
       "        [2.25535485e-02],\n",
       "        [3.52415379e-02],\n",
       "        [3.11865601e-02],\n",
       "        [2.51584704e-02],\n",
       "        [3.43507892e-02],\n",
       "        [2.58524257e-02],\n",
       "        [2.39880681e-02],\n",
       "        [1.52711605e-01],\n",
       "        [2.91021047e-01],\n",
       "        [5.14977006e-02],\n",
       "        [2.28477027e-01],\n",
       "        [1.39609314e-01],\n",
       "        [2.92652359e-02],\n",
       "        [1.56921946e-01],\n",
       "        [1.16698430e-01],\n",
       "        [5.10523263e-02],\n",
       "        [3.51638563e-02],\n",
       "        [1.07241994e-01],\n",
       "        [2.57643866e-02],\n",
       "        [9.81895016e-03],\n",
       "        [2.59456436e-02],\n",
       "        [3.20788623e-01],\n",
       "        [1.36584911e-01],\n",
       "        [2.83760409e-01],\n",
       "        [1.26217011e-01],\n",
       "        [4.09589013e-02],\n",
       "        [6.87947964e-02],\n",
       "        [2.64350375e-01],\n",
       "        [8.81996520e-02],\n",
       "        [8.90696855e-02],\n",
       "        [2.11009032e-01],\n",
       "        [1.91262377e-01],\n",
       "        [1.83054025e-01],\n",
       "        [5.94160418e-01],\n",
       "        [8.37407300e-03],\n",
       "        [4.35897170e-02],\n",
       "        [5.47344326e-02],\n",
       "        [2.56815263e-02],\n",
       "        [3.28230517e-02],\n",
       "        [2.51532916e-02],\n",
       "        [1.52110867e-01],\n",
       "        [2.73542694e-02],\n",
       "        [2.29455815e-01],\n",
       "        [1.13420268e-01],\n",
       "        [1.37289224e-02],\n",
       "        [3.18960517e-02],\n",
       "        [3.29856652e-01],\n",
       "        [3.65517670e-02],\n",
       "        [3.12528483e-01],\n",
       "        [1.94638936e-01],\n",
       "        [1.45937772e-02],\n",
       "        [1.62199113e-02],\n",
       "        [8.41550317e-03],\n",
       "        [2.75096325e-02],\n",
       "        [1.85643411e-01],\n",
       "        [3.14253014e-01],\n",
       "        [1.30282347e-01],\n",
       "        [7.85619588e-03],\n",
       "        [4.75887641e-01],\n",
       "        [1.54798649e-01],\n",
       "        [2.85976923e-01],\n",
       "        [3.78412810e-01],\n",
       "        [3.23103534e-02],\n",
       "        [4.90476240e-01],\n",
       "        [1.65549778e-01],\n",
       "        [1.65824253e-02],\n",
       "        [1.24963749e-02],\n",
       "        [2.81103700e-02],\n",
       "        [4.08853627e-01],\n",
       "        [1.77548991e-01],\n",
       "        [2.92569499e-01],\n",
       "        [1.96824378e-01],\n",
       "        [3.62513983e-02],\n",
       "        [3.71250570e-01],\n",
       "        [2.27555206e-02],\n",
       "        [2.49761777e-01],\n",
       "        [1.32110453e-01],\n",
       "        [2.38513486e-01],\n",
       "        [2.03696607e-01],\n",
       "        [4.31495215e-01],\n",
       "        [6.32379749e-02],\n",
       "        [1.52980901e-01],\n",
       "        [2.73801632e-02],\n",
       "        [2.36669843e-02],\n",
       "        [6.29168911e-02],\n",
       "        [2.86375689e-01],\n",
       "        [4.08346108e-02],\n",
       "        [3.56713759e-02],\n",
       "        [1.54197912e-01],\n",
       "        [4.57181920e-02],\n",
       "        [2.23303435e-01],\n",
       "        [3.41690144e-01],\n",
       "        [7.85930314e-02],\n",
       "        [5.24236649e-01],\n",
       "        [1.23399760e-01],\n",
       "        [1.06061234e-02],\n",
       "        [9.89352446e-02],\n",
       "        [3.28385881e-02],\n",
       "        [1.49164146e-01],\n",
       "        [2.47716162e-01],\n",
       "        [8.50198865e-02],\n",
       "        [1.34539297e-01],\n",
       "        [2.71626548e-02],\n",
       "        [5.51228405e-02],\n",
       "        [3.94000911e-02],\n",
       "        [2.07357998e-02],\n",
       "        [1.57331068e-02],\n",
       "        [7.02981936e-01],\n",
       "        [1.88610846e-01],\n",
       "        [2.06544931e-01],\n",
       "        [8.33264283e-02],\n",
       "        [7.55582715e-03],\n",
       "        [2.67442101e-01],\n",
       "        [4.57648009e-02],\n",
       "        [2.02857646e-01],\n",
       "        [1.87367941e-02],\n",
       "        [2.07704976e-01],\n",
       "        [3.26832249e-02]]))"
      ]
     },
     "execution_count": 26,
     "metadata": {},
     "output_type": "execute_result"
    }
   ],
   "source": [
    "train_generator[0]  # = train_generator.__getitem__(0)"
   ]
  },
  {
   "cell_type": "code",
   "execution_count": 27,
   "id": "64caa772",
   "metadata": {
    "scrolled": true
   },
   "outputs": [
    {
     "name": "stdout",
     "output_type": "stream",
     "text": [
      "(516, 24, 1)\n",
      "(516, 1)\n"
     ]
    }
   ],
   "source": [
    "x, y = train_generator[0]\n",
    "print(x.shape)\n",
    "print(y.shape)"
   ]
  },
  {
   "cell_type": "markdown",
   "id": "a1647712",
   "metadata": {},
   "source": [
    "# Modelisation"
   ]
  },
  {
   "cell_type": "code",
   "execution_count": 28,
   "id": "661d2cdb",
   "metadata": {},
   "outputs": [],
   "source": [
    "model = Sequential()\n",
    "model.add(InputLayer(input_shape=(train_generator.length,1)))\n",
    "model.add(SimpleRNN(30, activation=\"tanh\"))\n",
    "model.add(Dense(1))"
   ]
  },
  {
   "cell_type": "code",
   "execution_count": 29,
   "id": "fb76b01c",
   "metadata": {
    "scrolled": true
   },
   "outputs": [
    {
     "name": "stdout",
     "output_type": "stream",
     "text": [
      "Model: \"sequential\"\n",
      "_________________________________________________________________\n",
      " Layer (type)                Output Shape              Param #   \n",
      "=================================================================\n",
      " simple_rnn (SimpleRNN)      (None, 30)                960       \n",
      "                                                                 \n",
      " dense (Dense)               (None, 1)                 31        \n",
      "                                                                 \n",
      "=================================================================\n",
      "Total params: 991\n",
      "Trainable params: 991\n",
      "Non-trainable params: 0\n",
      "_________________________________________________________________\n"
     ]
    }
   ],
   "source": [
    "model.summary()"
   ]
  },
  {
   "cell_type": "code",
   "execution_count": 30,
   "id": "a6d95739",
   "metadata": {},
   "outputs": [],
   "source": [
    "model.compile(optimizer=\"rmsprop\", loss=\"mse\", metrics=[\"mae\"])"
   ]
  },
  {
   "cell_type": "code",
   "execution_count": 31,
   "id": "a9d39b68",
   "metadata": {},
   "outputs": [],
   "source": [
    "early_stopping = callbacks.EarlyStopping(\n",
    "    patience=20,\n",
    "    min_delta=0.001,\n",
    "    restore_best_weights=True,\n",
    ")"
   ]
  },
  {
   "cell_type": "code",
   "execution_count": 32,
   "id": "50756b30",
   "metadata": {},
   "outputs": [],
   "source": [
    "early_stop = callbacks.EarlyStopping(monitor=\"loss\",mode=\"min\",verbose=1,patience=100)"
   ]
  },
  {
   "cell_type": "code",
   "execution_count": 33,
   "id": "368b9ef5",
   "metadata": {
    "scrolled": true
   },
   "outputs": [
    {
     "name": "stdout",
     "output_type": "stream",
     "text": [
      "Epoch 1/50\n",
      "47/47 [==============================] - 3s 23ms/step - loss: 0.0268 - mae: 0.1153 - val_loss: 0.0110 - val_mae: 0.0795\n",
      "Epoch 2/50\n",
      "47/47 [==============================] - 1s 17ms/step - loss: 0.0123 - mae: 0.0806 - val_loss: 0.0084 - val_mae: 0.0663\n",
      "Epoch 3/50\n",
      "47/47 [==============================] - 1s 16ms/step - loss: 0.0101 - mae: 0.0716 - val_loss: 0.0074 - val_mae: 0.0626\n",
      "Epoch 4/50\n",
      "47/47 [==============================] - 1s 15ms/step - loss: 0.0091 - mae: 0.0669 - val_loss: 0.0071 - val_mae: 0.0606\n",
      "Epoch 5/50\n",
      "47/47 [==============================] - 1s 16ms/step - loss: 0.0090 - mae: 0.0661 - val_loss: 0.0077 - val_mae: 0.0599\n",
      "Epoch 6/50\n",
      "47/47 [==============================] - 1s 17ms/step - loss: 0.0090 - mae: 0.0655 - val_loss: 0.0073 - val_mae: 0.0592\n",
      "Epoch 7/50\n",
      "47/47 [==============================] - 1s 15ms/step - loss: 0.0090 - mae: 0.0658 - val_loss: 0.0075 - val_mae: 0.0595\n",
      "Epoch 8/50\n",
      "47/47 [==============================] - 1s 15ms/step - loss: 0.0092 - mae: 0.0666 - val_loss: 0.0075 - val_mae: 0.0600\n",
      "Epoch 9/50\n",
      "47/47 [==============================] - 1s 16ms/step - loss: 0.0093 - mae: 0.0670 - val_loss: 0.0076 - val_mae: 0.0598\n",
      "Epoch 10/50\n",
      "47/47 [==============================] - 1s 15ms/step - loss: 0.0092 - mae: 0.0662 - val_loss: 0.0073 - val_mae: 0.0597\n",
      "Epoch 11/50\n",
      "47/47 [==============================] - 1s 15ms/step - loss: 0.0090 - mae: 0.0657 - val_loss: 0.0072 - val_mae: 0.0593\n",
      "Epoch 12/50\n",
      "47/47 [==============================] - 1s 15ms/step - loss: 0.0091 - mae: 0.0661 - val_loss: 0.0074 - val_mae: 0.0591\n",
      "Epoch 13/50\n",
      "47/47 [==============================] - 1s 15ms/step - loss: 0.0090 - mae: 0.0657 - val_loss: 0.0073 - val_mae: 0.0591\n",
      "Epoch 14/50\n",
      "47/47 [==============================] - 1s 15ms/step - loss: 0.0090 - mae: 0.0656 - val_loss: 0.0072 - val_mae: 0.0598\n",
      "Epoch 15/50\n",
      "47/47 [==============================] - 1s 16ms/step - loss: 0.0091 - mae: 0.0662 - val_loss: 0.0074 - val_mae: 0.0599\n",
      "Epoch 16/50\n",
      "47/47 [==============================] - 1s 15ms/step - loss: 0.0090 - mae: 0.0659 - val_loss: 0.0070 - val_mae: 0.0593\n",
      "Epoch 17/50\n",
      "47/47 [==============================] - 1s 15ms/step - loss: 0.0088 - mae: 0.0650 - val_loss: 0.0071 - val_mae: 0.0588\n",
      "Epoch 18/50\n",
      "47/47 [==============================] - 1s 16ms/step - loss: 0.0090 - mae: 0.0658 - val_loss: 0.0073 - val_mae: 0.0620\n",
      "Epoch 19/50\n",
      "47/47 [==============================] - 1s 16ms/step - loss: 0.0087 - mae: 0.0649 - val_loss: 0.0075 - val_mae: 0.0621\n",
      "Epoch 20/50\n",
      "47/47 [==============================] - 1s 16ms/step - loss: 0.0088 - mae: 0.0651 - val_loss: 0.0074 - val_mae: 0.0600\n",
      "Epoch 21/50\n",
      "47/47 [==============================] - 1s 16ms/step - loss: 0.0090 - mae: 0.0656 - val_loss: 0.0073 - val_mae: 0.0616\n",
      "Epoch 22/50\n",
      "47/47 [==============================] - 1s 16ms/step - loss: 0.0087 - mae: 0.0646 - val_loss: 0.0072 - val_mae: 0.0594\n",
      "Epoch 23/50\n",
      "47/47 [==============================] - 1s 16ms/step - loss: 0.0088 - mae: 0.0649 - val_loss: 0.0074 - val_mae: 0.0588\n",
      "Epoch 24/50\n",
      "47/47 [==============================] - 1s 19ms/step - loss: 0.0087 - mae: 0.0647 - val_loss: 0.0073 - val_mae: 0.0623\n"
     ]
    }
   ],
   "source": [
    "history = model.fit(train_generator, epochs=50, validation_data=test_generator,callbacks=[early_stopping])"
   ]
  },
  {
   "cell_type": "code",
   "execution_count": 34,
   "id": "90f780f7",
   "metadata": {
    "scrolled": true
   },
   "outputs": [
    {
     "data": {
      "image/png": "[encoded data removed]",
      "text/plain": [
       "<Figure size 720x360 with 1 Axes>"
      ]
     },
     "metadata": {
      "needs_background": "light"
     },
     "output_type": "display_data"
    },
    {
     "data": {
      "image/png": "[encoded data removed]",
      "text/plain": [
       "<Figure size 720x360 with 1 Axes>"
      ]
     },
     "metadata": {
      "needs_background": "light"
     },
     "output_type": "display_data"
    }
   ],
   "source": [
    "plt.figure(figsize=(10,5))\n",
    "\n",
    "# summarize history for mae\n",
    "plt.plot(history.history['mae'])\n",
    "plt.plot(history.history['val_mae'])\n",
    "plt.title('Learning Curve')\n",
    "plt.ylabel('Error')\n",
    "plt.xlabel('epoch')\n",
    "plt.legend(['train', 'test'], loc='upper left')\n",
    "plt.show()\n",
    "\n",
    "# summarize history for loss\n",
    "plt.figure(figsize=(10,5))\n",
    "plt.plot(history.history['loss'])\n",
    "plt.plot(history.history['val_loss'])\n",
    "plt.title('model loss')\n",
    "plt.ylabel('loss')\n",
    "plt.xlabel('epoch')\n",
    "plt.legend(['train', 'test'], loc='upper left')\n",
    "plt.show()"
   ]
  },
  {
   "cell_type": "code",
   "execution_count": 47,
   "id": "f1681d9b",
   "metadata": {},
   "outputs": [
    {
     "name": "stdout",
     "output_type": "stream",
     "text": [
      "INFO:tensorflow:Assets written to: models/model_batch516\\assets\n"
     ]
    }
   ],
   "source": [
    "# # Enregistrer le modèle\n",
    "# model.save('models/model_batch516')\n",
    "# # Récupérer le modèle :\n",
    "# reconstructed_model = tf.keras.models.load_model(\"models/model_batch516\")"
   ]
  },
  {
   "cell_type": "markdown",
   "id": "8b47ee3e",
   "metadata": {},
   "source": [
    "# Predictions"
   ]
  },
  {
   "cell_type": "code",
   "execution_count": 36,
   "id": "72eb1e6e",
   "metadata": {},
   "outputs": [],
   "source": [
    "def plot_multivariate_serie(sequence, labels=None, predictions=None, only_features=None,\n",
    "                            columns=3, width=5,height=4,wspace=0.3,hspace=0.2,ms=6,lw=1,\n",
    "                            time_dt=1, hide_ticks=False):\n",
    "    \n",
    "    sequence_len = len(sequence)\n",
    "    features_len = sequence.shape[1]\n",
    "    if only_features is None : only_features=range(features_len)\n",
    "    if labels is None        : labels=range(features_len)\n",
    "    \n",
    "    t  = np.arange(sequence_len)    \n",
    "    if predictions is None:\n",
    "        dt = 0\n",
    "    else:\n",
    "        dt = len(predictions)\n",
    "        sequence_with_pred = sequence.copy()\n",
    "        sequence_with_pred[-dt:]=predictions\n",
    "\n",
    "    rows = ceil(features_len/columns)\n",
    "    fig  = plt.figure(figsize=(columns*width, rows*height))\n",
    "    fig.subplots_adjust(wspace=0.3,hspace=0.2)\n",
    "    n=1\n",
    "    for i in only_features:\n",
    "        ax=fig.add_subplot(rows, columns, n)\n",
    "        \n",
    "        # ---- Real sequence without prediction\n",
    "        #\n",
    "        ax.plot( t[:-dt],sequence[:-dt,i], 'o',  markersize=ms, color='C0', zorder=2)\n",
    "        ax.plot( t,sequence[:,i],          '-',  linewidth=lw,  color='C0', label=labels[i],zorder=1)\n",
    "\n",
    "        # ---- What we expect\n",
    "        #\n",
    "        ax.plot(t[-dt:], sequence[-dt:,i], 'o', markeredgecolor='C0',markerfacecolor='white',ms=6)\n",
    "        \n",
    "        if predictions is not None:\n",
    "            ax.plot(t[-dt-1:], sequence_with_pred[-dt-1:,i], '--',  lw=lw, fillstyle='full',  ms=ms, color='C1',zorder=1)\n",
    "            ax.plot(t[-dt:],   predictions[:,i],             'o',   lw=lw, fillstyle='full',  ms=ms, color='C1',zorder=2)\n",
    "\n",
    "        if hide_ticks:\n",
    "            ax.set_yticks([])\n",
    "            ax.set_xticks([])\n",
    "        \n",
    "        ax.legend(loc=\"upper left\")\n",
    "        n+=1\n",
    "    plt.show()"
   ]
  },
  {
   "cell_type": "code",
   "execution_count": 37,
   "id": "2b36f555",
   "metadata": {
    "scrolled": false
   },
   "outputs": [
    {
     "data": {
      "image/png": "[encoded data removed]",
      "text/plain": [
       "<Figure size 3024x576 with 1 Axes>"
      ]
     },
     "metadata": {
      "needs_background": "light"
     },
     "output_type": "display_data"
    },
    {
     "name": "stdout",
     "output_type": "stream",
     "text": [
      "Différence prédiction-réalité : 11.977028869628896 KWH\n"
     ]
    }
   ],
   "source": [
    "s=random.randint(0,len(normalized_test)-train_generator.length) #sélection d'une séquence aléatoire\n",
    "sequence = normalized_test[s:s+train_generator.length]\n",
    "sequence_true = normalized_test[s:s+train_generator.length+1]\n",
    "\n",
    "sequence = np.asarray(sequence).reshape(-1, 1)\n",
    "\n",
    "pred = model.predict(np.array([sequence]))\n",
    "\n",
    "#Denormalisation des données\n",
    "inversed_sequence_true = scaler.inverse_transform(sequence_true)\n",
    "inversed_pred = scaler.inverse_transform(pred)\n",
    "\n",
    "# Représentation graphique de la prédiction\n",
    "plot_multivariate_serie(inversed_sequence_true, predictions=inversed_pred,width=14, height=8)\n",
    "\n",
    "# Différence prédiction-réalité\n",
    "delta=abs(inversed_sequence_true[-1]-inversed_pred[-1])\n",
    "print(f'Différence prédiction-réalité : {delta[0]} KWH')"
   ]
  },
  {
   "cell_type": "code",
   "execution_count": null,
   "id": "f4a63e1b",
   "metadata": {},
   "outputs": [],
   "source": [
    "# s"
   ]
  },
  {
   "cell_type": "code",
   "execution_count": null,
   "id": "361ff3ab",
   "metadata": {
    "scrolled": true
   },
   "outputs": [],
   "source": [
    "# sequence"
   ]
  },
  {
   "cell_type": "code",
   "execution_count": null,
   "id": "607ae5b3",
   "metadata": {},
   "outputs": [],
   "source": [
    "# sequence_true"
   ]
  },
  {
   "cell_type": "code",
   "execution_count": null,
   "id": "5aaa4902",
   "metadata": {
    "scrolled": false
   },
   "outputs": [],
   "source": [
    "# # s=random.randint(0,len(normalized_test)-train_generator.length) #sélection d'une séquence aléatoire\n",
    "# s_finale=len(normalized_test)-train_generator.length\n",
    "# sequence_finale = normalized_test[s_finale:s+train_generator.length]\n",
    "# sequence_true_finale = normalized_test[s_finale:s+train_generator.length+1]\n",
    "\n",
    "# sequence_finale = np.asarray(sequence_finale).reshape(-1, 1)\n",
    "\n",
    "# pred_finale = model.predict(np.array([sequence_finale]))\n",
    "\n",
    "# #Denormalisation des données\n",
    "# inversed_sequence_true_finale = scaler.inverse_transform(sequence_true_finale)\n",
    "# inversed_pred_finale = scaler.inverse_transform(pred_finale)\n",
    "\n",
    "# # Représentation graphique de la prédiction\n",
    "# plot_multivariate_serie(inversed_sequence_true_finale, predictions=inversed_pred_finale,width=14, height=8)\n",
    "\n",
    "# # Différence prédiction-réalité\n",
    "# delta=abs(inversed_sequence_true[-1]-inversed_pred[-1])\n",
    "# print(f'Différence prédiction-réalité : {delta[0]} KWH')"
   ]
  },
  {
   "cell_type": "markdown",
   "id": "4b80c231",
   "metadata": {},
   "source": [
    "# Predictions sur plusieurs pas de temps (forecast)"
   ]
  },
  {
   "cell_type": "code",
   "execution_count": 38,
   "id": "cb9f8960",
   "metadata": {},
   "outputs": [],
   "source": [
    "def get_prediction(dataset, model, iterations,sequence_len):\n",
    "\n",
    "    # ---- Initial sequence\n",
    "\n",
    "    s=random.randint(0,len(dataset)-sequence_len-iterations)\n",
    "\n",
    "    sequence_pred = dataset[s:s+sequence_len].copy()\n",
    "    sequence_true = dataset[s:s+sequence_len+iterations].copy()\n",
    "\n",
    "    # ---- Iterate\n",
    "\n",
    "    sequence_pred=list(sequence_pred)\n",
    "\n",
    "    for i in range(iterations):\n",
    "        sequence=sequence_pred[-sequence_len:]\n",
    "        pred = model.predict( np.array([sequence]) )\n",
    "        sequence_pred.append(pred[0])\n",
    "\n",
    "    # ---- Extract the predictions    \n",
    "\n",
    "    pred=np.array(sequence_pred[-iterations:])\n",
    "\n",
    "    # ---- De-normalization\n",
    "\n",
    "    sequence_true = scaler.inverse_transform(sequence_true)\n",
    "    pred          = scaler.inverse_transform(pred)\n",
    "\n",
    "    return sequence_true,pred"
   ]
  },
  {
   "cell_type": "code",
   "execution_count": 39,
   "id": "b12e4b00",
   "metadata": {},
   "outputs": [],
   "source": [
    "# dataset = normalized_test\n",
    "# model = model\n",
    "# iterations = 12\n",
    "# sequence_len = train_generator.length\n",
    "\n",
    "# # ---- Initial sequence\n",
    "\n",
    "# s=random.randint(0,len(dataset)-sequence_len-iterations) # 8337\n",
    "\n",
    "# sequence_pred = dataset[s:s+sequence_len].copy() #array([[0.12311493],[0.07346605],...,[0.26107739]])\n",
    "# sequence_true = dataset[s:s+sequence_len+iterations].copy() #array([[ 54.986],[ 35.812],...,[ 46.74 ]])\n",
    "\n",
    "#     # ---- Iterate\n",
    "\n",
    "# sequence_pred=list(sequence_pred) #[array([0.12311493]),array([0.07346605]),...,array([0.26107739])]\n",
    "\n",
    "# for i in range(iterations):\n",
    "#     sequence=sequence_pred[-sequence_len:] #[array([0.12311493]),array([0.07346605]),...,array([0.26107739])]\n",
    "#     pred = model.predict( np.array([sequence]) ) #array([[0.20894438]], dtype=float32)\n",
    "#     sequence_pred.append(pred[0]) #pred[0] = array([0.20894438], dtype=float32)\n",
    "\n",
    "#     # ---- Extract the predictions    \n",
    "\n",
    "# pred=np.array(sequence_pred[-iterations:]) #array([[0.20894438],[0.31906977],...,[0.1022564 ]], dtype=float32)\n",
    "\n",
    "#     # ---- De-normalization\n",
    "\n",
    "# sequence_true = scaler.inverse_transform(sequence_true)\n",
    "# # pred = scaler.inverse_transform(pred)"
   ]
  },
  {
   "cell_type": "code",
   "execution_count": 40,
   "id": "448f9b41",
   "metadata": {},
   "outputs": [],
   "source": [
    "def get_prediction_finale(dataset, model, iterations,sequence_len):\n",
    "\n",
    "    # ---- Initial sequence\n",
    "\n",
    "    s=len(normalized_test)\n",
    "\n",
    "    sequence_pred = dataset[s-24:s].copy()\n",
    "    sequence_true = dataset[s-24:s+iterations].copy()\n",
    "\n",
    "    # ---- Iterate\n",
    "\n",
    "    sequence_pred=list(sequence_pred)\n",
    "\n",
    "    for i in range(iterations):\n",
    "        sequence=sequence_pred[-sequence_len:]\n",
    "        pred = model.predict( np.array([sequence]) )\n",
    "        sequence_pred.append(pred[0])\n",
    "\n",
    "    # ---- Extract the predictions    \n",
    "\n",
    "    pred=np.array(sequence_pred[-iterations:])\n",
    "\n",
    "    # ---- De-normalization\n",
    "\n",
    "    sequence_true = scaler.inverse_transform(sequence_true)\n",
    "    pred          = scaler.inverse_transform(pred)\n",
    "\n",
    "    return sequence_true,pred"
   ]
  },
  {
   "cell_type": "code",
   "execution_count": 41,
   "id": "58c7a64a",
   "metadata": {},
   "outputs": [],
   "source": [
    "# dataset = normalized_test\n",
    "# model = model\n",
    "# iterations = 12\n",
    "# sequence_len = train_generator.length\n",
    "\n",
    "# # ---- Initial sequence\n",
    "\n",
    "# s=len(normalized_test)\n",
    "\n",
    "# sequence_pred = dataset[s-24:s].copy()\n",
    "# sequence_true = dataset[s-24:s+iterations].copy()\n",
    "\n",
    "#     # ---- Iterate\n",
    "\n",
    "# sequence_pred=list(sequence_pred)\n",
    "\n",
    "# for i in range(iterations):\n",
    "#     sequence=sequence_pred[-sequence_len:]\n",
    "#     pred = model.predict( np.array([sequence]) )\n",
    "#     sequence_pred.append(pred[0])\n",
    "\n",
    "#     # ---- Extract the predictions    \n",
    "\n",
    "# pred=np.array(sequence_pred[-iterations:])\n",
    "\n",
    "#     # ---- De-normalization\n",
    "\n",
    "# sequence_true = scaler.inverse_transform(sequence_true)\n",
    "# pred = scaler.inverse_transform(pred)"
   ]
  },
  {
   "cell_type": "code",
   "execution_count": 42,
   "id": "3c368525",
   "metadata": {},
   "outputs": [],
   "source": [
    "# sequence_pred.shape"
   ]
  },
  {
   "cell_type": "code",
   "execution_count": 43,
   "id": "35d5eeff",
   "metadata": {
    "scrolled": true
   },
   "outputs": [],
   "source": [
    "# sequence_true.shape"
   ]
  },
  {
   "cell_type": "code",
   "execution_count": 44,
   "id": "71dec23a",
   "metadata": {},
   "outputs": [
    {
     "data": {
      "image/png": "[encoded data removed]",
      "text/plain": [
       "<Figure size 3024x576 with 1 Axes>"
      ]
     },
     "metadata": {
      "needs_background": "light"
     },
     "output_type": "display_data"
    }
   ],
   "source": [
    "sequence_true_it, pred_it = get_prediction(normalized_test,model=model,iterations=12,sequence_len=train_generator.length)\n",
    "\n",
    "plot_multivariate_serie(sequence_true_it, predictions=pred_it,width=14, height=8)"
   ]
  },
  {
   "cell_type": "code",
   "execution_count": null,
   "id": "e2123e6d",
   "metadata": {
    "scrolled": false
   },
   "outputs": [],
   "source": [
    "# sequence_true_it_finale, pred_it_finale = get_prediction_finale(normalized_test,model=model,iterations=12,sequence_len=train_generator.length)\n",
    "\n",
    "# plot_multivariate_serie(sequence_true_it_finale, predictions=pred_it_finale,width=14, height=8)"
   ]
  },
  {
   "cell_type": "code",
   "execution_count": 49,
   "id": "0a11c596",
   "metadata": {},
   "outputs": [
    {
     "data": {
      "text/plain": [
       "array([[31.4997616]])"
      ]
     },
     "execution_count": 49,
     "metadata": {},
     "output_type": "execute_result"
    }
   ],
   "source": [
    "val_mae = 0.0623\n",
    "val_mae = np.asarray(val_mae).reshape(1, -1)\n",
    "scaler.inverse_transform(val_mae)"
   ]
  }
 ],
 "metadata": {
  "kernelspec": {
   "display_name": "Python 3",
   "language": "python",
   "name": "python3"
  },
  "language_info": {
   "codemirror_mode": {
    "name": "ipython",
    "version": 3
   },
   "file_extension": ".py",
   "mimetype": "text/x-python",
   "name": "python",
   "nbconvert_exporter": "python",
   "pygments_lexer": "ipython3",
   "version": "3.8.8"
  }
 },
 "nbformat": 4,
 "nbformat_minor": 5
}
