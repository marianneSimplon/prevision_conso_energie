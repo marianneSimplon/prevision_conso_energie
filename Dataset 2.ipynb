{
 "cells": [
  {
   "cell_type": "code",
   "execution_count": 1,
   "id": "b5c7f28a",
   "metadata": {
    "ExecuteTime": {
     "end_time": "2022-01-05T14:49:13.656168Z",
     "start_time": "2022-01-05T14:48:40.807396Z"
    }
   },
   "outputs": [
    {
     "data": {
      "text/plain": [
       "LCLid                                0\n",
       "day                                  0\n",
       "energy_median                       30\n",
       "energy_mean                         30\n",
       "energy_max                          30\n",
       "energy_count                         0\n",
       "energy_std                       11331\n",
       "energy_sum                          30\n",
       "energy_min                          30\n",
       "stdorToU                             0\n",
       "Acorn                                0\n",
       "Acorn_grouped                        0\n",
       "file                                 0\n",
       "Type                           3429802\n",
       "temperatureMax                 3381434\n",
       "windBearing                    3381434\n",
       "icon                           3381434\n",
       "dewPoint                       3381434\n",
       "temperatureMinTime             3381434\n",
       "cloudCover                     3381434\n",
       "windSpeed                      3381434\n",
       "pressure                       3381434\n",
       "apparentTemperatureMinTime     3381434\n",
       "apparentTemperatureHigh        3381434\n",
       "precipType                     3381434\n",
       "visibility                     3381434\n",
       "humidity                       3381434\n",
       "apparentTemperatureHighTime    3381434\n",
       "apparentTemperatureLow         3381434\n",
       "apparentTemperatureMax         3381434\n",
       "uvIndex                        3381434\n",
       "time                           3381434\n",
       "sunsetTime                     3381434\n",
       "temperatureLow                 3381434\n",
       "temperatureMin                 3381434\n",
       "temperatureHigh                3381434\n",
       "sunriseTime                    3381434\n",
       "temperatureHighTime            3381434\n",
       "uvIndexTime                    3381434\n",
       "summary                        3381434\n",
       "temperatureLowTime             3381434\n",
       "apparentTemperatureMin         3381434\n",
       "apparentTemperatureMaxTime     3381434\n",
       "apparentTemperatureLowTime     3381434\n",
       "moonPhase                      3381434\n",
       "dtype: int64"
      ]
     },
     "execution_count": 1,
     "metadata": {},
     "output_type": "execute_result"
    }
   ],
   "source": [
    "import numpy as np\n",
    "import pandas as pd\n",
    "import seaborn as sns\n",
    "from datetime import datetime\n",
    "import datetime as dt\n",
    "import matplotlib.pyplot as plt\n",
    "\n",
    "# KNN imputer pour remplacer NaN\n",
    "from sklearn.impute import KNNImputer\n",
    "from sklearn.impute import SimpleImputer \n",
    "\n",
    "# DeepAR\n",
    "from gluonts.model.deepar import DeepAREstimator\n",
    "from gluonts.mx.trainer import Trainer\n",
    "from gluonts.dataset.common import ListDataset\n",
    "from gluonts.evaluation.backtest import make_evaluation_predictions\n",
    "\n",
    "# params plt\n",
    "plt.rcParams[\"figure.figsize\"] = (15,5)\n",
    "# plt.rcParams['axes.facecolor'] = '#262833'\n",
    "plt.rcParams['font.size'] = 17\n",
    "plt.style.use('fivethirtyeight')\n",
    "\n",
    "# params dataframe\n",
    "# pd.set_option('display.float_format', lambda x: '%.2f' % x) # format des lignes virgules\n",
    "\n",
    "\n",
    "daily_dataset = pd.read_csv('data/dataset_2/daily_dataset.csv', parse_dates=['day'])\n",
    "# daily_dataset\n",
    "informations_households = pd.read_csv('data/dataset_2/informations_households.csv') #join par LCLid\n",
    "# informations_households\n",
    "uk_bank_holidays = pd.read_csv('data/dataset_2/uk_bank_holidays.csv', parse_dates=['Bank holidays']) #jours fériés #join par date\n",
    "uk_bank_holidays = uk_bank_holidays.rename(columns={'Bank holidays': 'day'})\n",
    "# uk_bank_holidays\n",
    "weather_daily_darksky = pd.read_csv('data/dataset_2/weather_daily_darksky.csv', parse_dates=['temperatureMaxTime']) #temps par jour #join par date\n",
    "weather_daily_darksky = weather_daily_darksky.rename(columns={'temperatureMaxTime': 'day'})\n",
    "# weather_daily_darksky.info()\n",
    "\n",
    "\n",
    "##### 1. Merge\n",
    "data = daily_dataset.merge(informations_households, how='left', on='LCLid')\n",
    "data = data.merge(uk_bank_holidays, how='left', on='day')\n",
    "data = data.merge(weather_daily_darksky, how='left', on='day')\n",
    "\n",
    "# print(daily_dataset.info())\n",
    "# print(informations_households.info())\n",
    "data.isnull().sum()\n",
    "\n",
    "##### 1. Premier import + drop duplicates\n",
    "# na_values = \"\", \"#N/A\", \"#N/A N/A\", \"#NA\", \"-1.#IND\", \"-1.#QNAN\", \"-NaN\", \"-nan\", \"1.#IND\", \"1.#QNAN\", \"<NA>\", \"N/A\", \"NA\", \"NULL\", \"NaN\", \"n/a\", \"nan\", \"null\" , \"?\"\n",
    "# df_raw = pd.read_csv(\"data/household_power_consumption.csv\", delimiter=\";\", na_values=na_values, parse_dates=[['Date', 'Time']])\n",
    "# df_raw = df_raw.drop_duplicates()\n",
    "\n",
    "##### 2. Fusionner colonnes Date et Time + Convertir (gérer à l'import) + Trier date par odre croissant \n",
    "# parse_dates=[['Date', 'Time']]\n",
    "# data = data.sort_values(by=\"Date_Time\")\n",
    "\n",
    "##### 3. Export du csv pour optimiser le temps de calcul\n",
    "# data.to_csv('data/NEWhousehold_power_consumption.csv', sep='|', index=False)"
   ]
  },
  {
   "cell_type": "code",
   "execution_count": 19,
   "id": "bf1c0384",
   "metadata": {
    "ExecuteTime": {
     "end_time": "2021-12-22T15:08:41.427267Z",
     "start_time": "2021-12-22T15:08:37.970225Z"
    }
   },
   "outputs": [
    {
     "data": {
      "text/plain": [
       "LCLid                                0\n",
       "day                                  0\n",
       "energy_median                       30\n",
       "energy_mean                         30\n",
       "energy_max                          30\n",
       "energy_count                         0\n",
       "energy_std                       11331\n",
       "energy_sum                          30\n",
       "energy_min                          30\n",
       "stdorToU                             0\n",
       "Acorn                                0\n",
       "Acorn_grouped                        0\n",
       "file                                 0\n",
       "Type                           3429802\n",
       "temperatureMax                 3381434\n",
       "windBearing                    3381434\n",
       "icon                           3381434\n",
       "dewPoint                       3381434\n",
       "temperatureMinTime             3381434\n",
       "cloudCover                     3381434\n",
       "windSpeed                      3381434\n",
       "pressure                       3381434\n",
       "apparentTemperatureMinTime     3381434\n",
       "apparentTemperatureHigh        3381434\n",
       "precipType                     3381434\n",
       "visibility                     3381434\n",
       "humidity                       3381434\n",
       "apparentTemperatureHighTime    3381434\n",
       "apparentTemperatureLow         3381434\n",
       "apparentTemperatureMax         3381434\n",
       "uvIndex                        3381434\n",
       "time                           3381434\n",
       "sunsetTime                     3381434\n",
       "temperatureLow                 3381434\n",
       "temperatureMin                 3381434\n",
       "temperatureHigh                3381434\n",
       "sunriseTime                    3381434\n",
       "temperatureHighTime            3381434\n",
       "uvIndexTime                    3381434\n",
       "summary                        3381434\n",
       "temperatureLowTime             3381434\n",
       "apparentTemperatureMin         3381434\n",
       "apparentTemperatureMaxTime     3381434\n",
       "apparentTemperatureLowTime     3381434\n",
       "moonPhase                      3381434\n",
       "dtype: int64"
      ]
     },
     "execution_count": 19,
     "metadata": {},
     "output_type": "execute_result"
    }
   ],
   "source": [
    "data.isnull().sum()"
   ]
  }
 ],
 "metadata": {
  "hide_input": false,
  "kernelspec": {
   "display_name": "Python 3 (ipykernel)",
   "language": "python",
   "name": "python3"
  },
  "language_info": {
   "codemirror_mode": {
    "name": "ipython",
    "version": 3
   },
   "file_extension": ".py",
   "mimetype": "text/x-python",
   "name": "python",
   "nbconvert_exporter": "python",
   "pygments_lexer": "ipython3",
   "version": "3.7.11"
  },
  "toc": {
   "base_numbering": 1,
   "nav_menu": {},
   "number_sections": true,
   "sideBar": true,
   "skip_h1_title": false,
   "title_cell": "Table of Contents",
   "title_sidebar": "Contents",
   "toc_cell": false,
   "toc_position": {},
   "toc_section_display": true,
   "toc_window_display": false
  }
 },
 "nbformat": 4,
 "nbformat_minor": 5
}
