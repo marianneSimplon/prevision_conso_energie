{
 "cells": [
  {
   "cell_type": "code",
   "execution_count": 1,
   "id": "b82ab926",
   "metadata": {
    "ExecuteTime": {
     "end_time": "2021-12-21T08:35:42.981760Z",
     "start_time": "2021-12-21T08:35:33.139502Z"
    }
   },
   "outputs": [
    {
     "data": {
      "text/html": [
       "<div>\n",
       "<style scoped>\n",
       "    .dataframe tbody tr th:only-of-type {\n",
       "        vertical-align: middle;\n",
       "    }\n",
       "\n",
       "    .dataframe tbody tr th {\n",
       "        vertical-align: top;\n",
       "    }\n",
       "\n",
       "    .dataframe thead th {\n",
       "        text-align: right;\n",
       "    }\n",
       "</style>\n",
       "<table border=\"1\" class=\"dataframe\">\n",
       "  <thead>\n",
       "    <tr style=\"text-align: right;\">\n",
       "      <th></th>\n",
       "      <th>Global_active_power</th>\n",
       "      <th>Global_reactive_power</th>\n",
       "      <th>Voltage</th>\n",
       "      <th>Global_intensity</th>\n",
       "      <th>Sub_metering_1</th>\n",
       "      <th>Sub_metering_2</th>\n",
       "      <th>Sub_metering_3</th>\n",
       "    </tr>\n",
       "    <tr>\n",
       "      <th>Date_Time</th>\n",
       "      <th></th>\n",
       "      <th></th>\n",
       "      <th></th>\n",
       "      <th></th>\n",
       "      <th></th>\n",
       "      <th></th>\n",
       "      <th></th>\n",
       "    </tr>\n",
       "  </thead>\n",
       "  <tbody>\n",
       "    <tr>\n",
       "      <th>2006-12-16 17:24:00</th>\n",
       "      <td>4.216</td>\n",
       "      <td>0.418</td>\n",
       "      <td>234.84</td>\n",
       "      <td>18.4</td>\n",
       "      <td>0.0</td>\n",
       "      <td>1.0</td>\n",
       "      <td>17.0</td>\n",
       "    </tr>\n",
       "    <tr>\n",
       "      <th>2006-12-16 17:25:00</th>\n",
       "      <td>5.360</td>\n",
       "      <td>0.436</td>\n",
       "      <td>233.63</td>\n",
       "      <td>23.0</td>\n",
       "      <td>0.0</td>\n",
       "      <td>1.0</td>\n",
       "      <td>16.0</td>\n",
       "    </tr>\n",
       "    <tr>\n",
       "      <th>2006-12-16 17:26:00</th>\n",
       "      <td>5.374</td>\n",
       "      <td>0.498</td>\n",
       "      <td>233.29</td>\n",
       "      <td>23.0</td>\n",
       "      <td>0.0</td>\n",
       "      <td>2.0</td>\n",
       "      <td>17.0</td>\n",
       "    </tr>\n",
       "    <tr>\n",
       "      <th>2006-12-16 17:27:00</th>\n",
       "      <td>5.388</td>\n",
       "      <td>0.502</td>\n",
       "      <td>233.74</td>\n",
       "      <td>23.0</td>\n",
       "      <td>0.0</td>\n",
       "      <td>1.0</td>\n",
       "      <td>17.0</td>\n",
       "    </tr>\n",
       "    <tr>\n",
       "      <th>2006-12-16 17:28:00</th>\n",
       "      <td>3.666</td>\n",
       "      <td>0.528</td>\n",
       "      <td>235.68</td>\n",
       "      <td>15.8</td>\n",
       "      <td>0.0</td>\n",
       "      <td>1.0</td>\n",
       "      <td>17.0</td>\n",
       "    </tr>\n",
       "  </tbody>\n",
       "</table>\n",
       "</div>"
      ],
      "text/plain": [
       "                     Global_active_power  Global_reactive_power  Voltage  \\\n",
       "Date_Time                                                                  \n",
       "2006-12-16 17:24:00                4.216                  0.418   234.84   \n",
       "2006-12-16 17:25:00                5.360                  0.436   233.63   \n",
       "2006-12-16 17:26:00                5.374                  0.498   233.29   \n",
       "2006-12-16 17:27:00                5.388                  0.502   233.74   \n",
       "2006-12-16 17:28:00                3.666                  0.528   235.68   \n",
       "\n",
       "                     Global_intensity  Sub_metering_1  Sub_metering_2  \\\n",
       "Date_Time                                                               \n",
       "2006-12-16 17:24:00              18.4             0.0             1.0   \n",
       "2006-12-16 17:25:00              23.0             0.0             1.0   \n",
       "2006-12-16 17:26:00              23.0             0.0             2.0   \n",
       "2006-12-16 17:27:00              23.0             0.0             1.0   \n",
       "2006-12-16 17:28:00              15.8             0.0             1.0   \n",
       "\n",
       "                     Sub_metering_3  \n",
       "Date_Time                            \n",
       "2006-12-16 17:24:00            17.0  \n",
       "2006-12-16 17:25:00            16.0  \n",
       "2006-12-16 17:26:00            17.0  \n",
       "2006-12-16 17:27:00            17.0  \n",
       "2006-12-16 17:28:00            17.0  "
      ]
     },
     "execution_count": 1,
     "metadata": {},
     "output_type": "execute_result"
    }
   ],
   "source": [
    "import numpy as np\n",
    "import pandas as pd\n",
    "import seaborn as sns\n",
    "from datetime import datetime\n",
    "import datetime as dt\n",
    "import matplotlib.pyplot as plt\n",
    "\n",
    "# KNN imputer pour remplacer NaN\n",
    "from sklearn.impute import KNNImputer\n",
    "from sklearn.impute import SimpleImputer \n",
    "\n",
    "##### 1. Premier import + drop duplicates\n",
    "# na_values = \"\", \"#N/A\", \"#N/A N/A\", \"#NA\", \"-1.#IND\", \"-1.#QNAN\", \"-NaN\", \"-nan\", \"1.#IND\", \"1.#QNAN\", \"<NA>\", \"N/A\", \"NA\", \"NULL\", \"NaN\", \"n/a\", \"nan\", \"null\" , \"?\"\n",
    "# df_raw = pd.read_csv(\"data/household_power_consumption.csv\", delimiter=\";\", na_values=na_values, parse_dates=[['Date', 'Time']])\n",
    "# df_raw = df_raw.drop_duplicates()\n",
    "\n",
    "##### 2. Fusionner colonnes Date et Time + Convertir (gérer à l'import) + Trier date par odre croissant \n",
    "# parse_dates=[['Date', 'Time']]\n",
    "# data = data.sort_values(by=\"Date_Time\")\n",
    "\n",
    "##### 3. Export du csv pour optimiser le temps de calcul\n",
    "# data.to_csv('data/NEWhousehold_power_consumption.csv', sep='|', index=False)\n",
    "\n",
    "##### 4. import final + passer en index\n",
    "df_raw = pd.read_csv(\"data/NEWhousehold_power_consumption.csv\", delimiter=\"|\", parse_dates=['Date_Time'], index_col='Date_Time')\n",
    "data = df_raw\n",
    "\n",
    "##### 5. Gestion des NaN et Null (Moyenne)\n",
    "\n",
    "##### 6. Gestion des NaN et Null (Simple imputer en mean)\n",
    "# imputer = SimpleImputer(missing_values=np.nan, strategy='mean')\n",
    "# data_SI = pd.DataFrame(imputer.fit_transform(data), columns=data.columns)\n",
    "\n",
    "##### 7. Gestion des NaN et Null (drop)\n",
    "\n",
    "\n",
    "##### 5. Gestion des NaN et Null (Drop = 25979 lignes)\n",
    "# data = data.dropna(how = 'any')\n",
    "\n",
    "# pd.set_option('display.float_format', lambda x: '%.2f' % x) \n",
    "\n",
    "data.head()"
   ]
  },
  {
   "cell_type": "markdown",
   "id": "9a9dcd5d",
   "metadata": {
    "heading_collapsed": true
   },
   "source": [
    "# Brief : Développez un outil de prévision de la consommation d'énergie"
   ]
  },
  {
   "cell_type": "markdown",
   "id": "c8e68628",
   "metadata": {
    "hidden": true
   },
   "source": [
    "_L'objectif de ce projet est de créer un outil de prédiction de la consommation d'énergie en utilisant des réseaux neuronaux récurrents et anticiper les besoins du marché en termes d'énergie._\n",
    "\n",
    "\n",
    "**Contexte du projet**\n",
    "\n",
    "Vous travaillez dans l'équipe data d'un fournisseur d'éléctricité qui cherche à se moderniser avec des outils d'Intelligence Artificielle.   \n",
    "\n",
    "Première source de donnée : \n",
    "vous permettra de vous initier aux prévisions sur la consommation d'une maison. \n",
    "\n",
    "\n",
    "Deuxième source :  \n",
    "contient une base de données proche de la réalité avec la consommation de plusieurs maisons.\n",
    "\n",
    "C'est à vous de décider comment vous allez utiliser ces données pour réaliser votre modèle de prédiction. \n",
    "\n",
    "\n",
    "**Modalités d'évaluation**<br> \n",
    "* Présentation orale - 20 min (Q/A inclus) / présentation en équipe.\n",
    "* Pré-planning du projet\n",
    "* Code review via github\n",
    "\n",
    "**Critères de performance**<br> \n",
    "* compréhension du jeux de données\n",
    "* performance des modèles de prédiction\n",
    "* capacité à apporter une solution dans le temps imparti\n",
    "* qualité du synthèse du travail"
   ]
  },
  {
   "cell_type": "markdown",
   "id": "b15748d9",
   "metadata": {
    "hidden": true
   },
   "source": [
    "### Le dataset 1"
   ]
  },
  {
   "cell_type": "markdown",
   "id": "17d5c2cf",
   "metadata": {
    "hidden": true
   },
   "source": [
    "Context: Measurements of electric power consumption in one household with a one-minute sampling rate over a period of almost 4 years. Different electrical quantities and some sub-metering values are available.<br>  \n",
    "This archive contains 2075259 measurements gathered between December 2006 and November 2010 (47 months).  \n",
    "Notes:\n",
    "* 1.(globalactivepower*1000/60 - submetering1 - submetering2 - submetering3) represents the active energy consumed every minute (in watt hour) in the household by electrical equipment not measured in sub-meterings 1, 2 and 3.\n",
    "* 2.The dataset contains some missing values in the measurements (nearly 1,25% of the rows). All calendar timestamps are present in the dataset but for some timestamps, the measurement values are missing: a missing value is represented by the absence of value between two consecutive semi-colon attribute separators. For instance, the dataset shows missing values on April 28, 2007.<br> <br>    \n",
    " \n",
    "**Attribute Information:**  \n",
    "* 1.date: Date in format dd/mm/yyyy\n",
    "* 2.time: time in format hh:mm:ss\n",
    "* 3.globalactivepower: household global minute-averaged active power (in kilowatt)\n",
    "* 4.globalreactivepower: household global minute-averaged reactive power (in kilowatt)\n",
    "* 5.voltage: minute-averaged voltage (in volt)\n",
    "* 6.global_intensity: household global minute-averaged current intensity (in ampere)\n",
    "* 7.submetering1: energy sub-metering No. 1 (in watt-hour of active energy). It corresponds to the kitchen, containing mainly a dishwasher, an oven and a microwave (hot plates are not electric but gas powered).\n",
    "* 8.submetering2: energy sub-metering No. 2 (in watt-hour of active energy). It corresponds to the laundry room, containing a washing-machine, a tumble-drier, a refrigerator and a light.\n",
    "* 9.submetering3: energy sub-metering No. 3 (in watt-hour of active energy). It corresponds to an electric water-heater and an air-conditioner."
   ]
  },
  {
   "cell_type": "markdown",
   "id": "9d0b294f",
   "metadata": {
    "heading_collapsed": true
   },
   "source": [
    "# EDA"
   ]
  },
  {
   "cell_type": "code",
   "execution_count": null,
   "id": "0a3b848b",
   "metadata": {
    "ExecuteTime": {
     "start_time": "2021-12-21T08:35:46.875Z"
    },
    "hidden": true
   },
   "outputs": [],
   "source": [
    "imputer = KNNImputer()\n",
    "data_KNN = pd.DataFrame(imputer.fit_transform(data), columns=data.columns)\n",
    "\n",
    "# data_KNN.isnull().sum()"
   ]
  },
  {
   "cell_type": "code",
   "execution_count": 8,
   "id": "57f13a0e",
   "metadata": {
    "ExecuteTime": {
     "end_time": "2021-12-20T14:58:01.064844Z",
     "start_time": "2021-12-20T14:58:01.025793Z"
    },
    "hidden": true
   },
   "outputs": [
    {
     "ename": "TypeError",
     "evalue": "'NoneType' object is not subscriptable",
     "output_type": "error",
     "traceback": [
      "\u001b[1;31m---------------------------------------------------------------------------\u001b[0m",
      "\u001b[1;31mTypeError\u001b[0m                                 Traceback (most recent call last)",
      "\u001b[1;32mC:\\Users\\UTILIS~1\\AppData\\Local\\Temp/ipykernel_5420/2311952246.py\u001b[0m in \u001b[0;36m<module>\u001b[1;34m\u001b[0m\n\u001b[0;32m      1\u001b[0m \u001b[1;31m#Autre technique avec la moyenne en plus\u001b[0m\u001b[1;33m\u001b[0m\u001b[1;33m\u001b[0m\u001b[1;33m\u001b[0m\u001b[0m\n\u001b[1;32m----> 2\u001b[1;33m \u001b[0mdata\u001b[0m \u001b[1;33m=\u001b[0m \u001b[0mdata\u001b[0m\u001b[1;33m[\u001b[0m\u001b[1;34m'Global_active_power'\u001b[0m\u001b[1;33m]\u001b[0m\u001b[1;33m.\u001b[0m\u001b[0mfillna\u001b[0m\u001b[1;33m(\u001b[0m\u001b[1;33m(\u001b[0m\u001b[0mdata\u001b[0m\u001b[1;33m[\u001b[0m\u001b[1;34m'Global_active_power'\u001b[0m\u001b[1;33m]\u001b[0m\u001b[1;33m.\u001b[0m\u001b[0mmean\u001b[0m\u001b[1;33m(\u001b[0m\u001b[1;33m)\u001b[0m\u001b[1;33m)\u001b[0m\u001b[1;33m,\u001b[0m \u001b[0minplace\u001b[0m\u001b[1;33m=\u001b[0m\u001b[1;32mTrue\u001b[0m\u001b[1;33m)\u001b[0m\u001b[1;33m\u001b[0m\u001b[1;33m\u001b[0m\u001b[0m\n\u001b[0m\u001b[0;32m      3\u001b[0m \u001b[0mdata\u001b[0m \u001b[1;33m=\u001b[0m \u001b[0mdata\u001b[0m\u001b[1;33m[\u001b[0m\u001b[1;34m'Global_reactive_power'\u001b[0m\u001b[1;33m]\u001b[0m\u001b[1;33m.\u001b[0m\u001b[0mfillna\u001b[0m\u001b[1;33m(\u001b[0m\u001b[1;33m(\u001b[0m\u001b[0mdata\u001b[0m\u001b[1;33m[\u001b[0m\u001b[1;34m'Global_reactive_power'\u001b[0m\u001b[1;33m]\u001b[0m\u001b[1;33m.\u001b[0m\u001b[0mmean\u001b[0m\u001b[1;33m(\u001b[0m\u001b[1;33m)\u001b[0m\u001b[1;33m)\u001b[0m\u001b[1;33m,\u001b[0m \u001b[0minplace\u001b[0m\u001b[1;33m=\u001b[0m\u001b[1;32mTrue\u001b[0m\u001b[1;33m)\u001b[0m\u001b[1;33m\u001b[0m\u001b[1;33m\u001b[0m\u001b[0m\n\u001b[0;32m      4\u001b[0m \u001b[0mdata\u001b[0m \u001b[1;33m=\u001b[0m \u001b[0mdata\u001b[0m\u001b[1;33m[\u001b[0m\u001b[1;34m'Voltage'\u001b[0m\u001b[1;33m]\u001b[0m\u001b[1;33m.\u001b[0m\u001b[0mfillna\u001b[0m\u001b[1;33m(\u001b[0m\u001b[1;33m(\u001b[0m\u001b[0mdata\u001b[0m\u001b[1;33m[\u001b[0m\u001b[1;34m'Voltage'\u001b[0m\u001b[1;33m]\u001b[0m\u001b[1;33m.\u001b[0m\u001b[0mmean\u001b[0m\u001b[1;33m(\u001b[0m\u001b[1;33m)\u001b[0m\u001b[1;33m)\u001b[0m\u001b[1;33m,\u001b[0m \u001b[0minplace\u001b[0m\u001b[1;33m=\u001b[0m\u001b[1;32mTrue\u001b[0m\u001b[1;33m)\u001b[0m\u001b[1;33m\u001b[0m\u001b[1;33m\u001b[0m\u001b[0m\n\u001b[0;32m      5\u001b[0m \u001b[0mdata\u001b[0m \u001b[1;33m=\u001b[0m \u001b[0mdata\u001b[0m\u001b[1;33m[\u001b[0m\u001b[1;34m'Global_intensity'\u001b[0m\u001b[1;33m]\u001b[0m\u001b[1;33m.\u001b[0m\u001b[0mfillna\u001b[0m\u001b[1;33m(\u001b[0m\u001b[1;33m(\u001b[0m\u001b[0mdata\u001b[0m\u001b[1;33m[\u001b[0m\u001b[1;34m'Global_intensity'\u001b[0m\u001b[1;33m]\u001b[0m\u001b[1;33m.\u001b[0m\u001b[0mmean\u001b[0m\u001b[1;33m(\u001b[0m\u001b[1;33m)\u001b[0m\u001b[1;33m)\u001b[0m\u001b[1;33m,\u001b[0m \u001b[0minplace\u001b[0m\u001b[1;33m=\u001b[0m\u001b[1;32mTrue\u001b[0m\u001b[1;33m)\u001b[0m\u001b[1;33m\u001b[0m\u001b[1;33m\u001b[0m\u001b[0m\n",
      "\u001b[1;31mTypeError\u001b[0m: 'NoneType' object is not subscriptable"
     ]
    }
   ],
   "source": [
    "#Autre technique avec la moyenne en plus\n",
    "mean_value=gfg['Global_active_power'].mean() \n",
    "  \n",
    "data['Global_active_power'].fillna(value=mean_value, inplace=True) \n",
    "\n",
    "data"
   ]
  },
  {
   "cell_type": "markdown",
   "id": "2f48c9dc",
   "metadata": {
    "ExecuteTime": {
     "end_time": "2021-12-20T09:41:32.099482Z",
     "start_time": "2021-12-20T09:41:32.090481Z"
    },
    "hidden": true
   },
   "source": [
    "## Premières infos / Duplicates / NaN missing values"
   ]
  },
  {
   "cell_type": "code",
   "execution_count": 4,
   "id": "540d106e",
   "metadata": {
    "ExecuteTime": {
     "end_time": "2021-12-20T12:40:02.935586Z",
     "start_time": "2021-12-20T12:40:02.911595Z"
    },
    "hidden": true
   },
   "outputs": [
    {
     "name": "stdout",
     "output_type": "stream",
     "text": [
      "<class 'pandas.core.frame.DataFrame'>\n",
      "Int64Index: 2049280 entries, 0 to 2075258\n",
      "Data columns (total 8 columns):\n",
      " #   Column                 Dtype         \n",
      "---  ------                 -----         \n",
      " 0   Date_Time              datetime64[ns]\n",
      " 1   Global_active_power    float64       \n",
      " 2   Global_reactive_power  float64       \n",
      " 3   Voltage                float64       \n",
      " 4   Global_intensity       float64       \n",
      " 5   Sub_metering_1         float64       \n",
      " 6   Sub_metering_2         float64       \n",
      " 7   Sub_metering_3         float64       \n",
      "dtypes: datetime64[ns](1), float64(7)\n",
      "memory usage: 140.7 MB\n"
     ]
    }
   ],
   "source": [
    "data.info()\n",
    "# Date et Time sont en object / Le reste en float64"
   ]
  },
  {
   "cell_type": "code",
   "execution_count": 39,
   "id": "6b49e30c",
   "metadata": {
    "ExecuteTime": {
     "end_time": "2021-12-20T10:13:29.366560Z",
     "start_time": "2021-12-20T10:13:28.858867Z"
    },
    "hidden": true
   },
   "outputs": [
    {
     "data": {
      "text/html": [
       "<div>\n",
       "<style scoped>\n",
       "    .dataframe tbody tr th:only-of-type {\n",
       "        vertical-align: middle;\n",
       "    }\n",
       "\n",
       "    .dataframe tbody tr th {\n",
       "        vertical-align: top;\n",
       "    }\n",
       "\n",
       "    .dataframe thead th {\n",
       "        text-align: right;\n",
       "    }\n",
       "</style>\n",
       "<table border=\"1\" class=\"dataframe\">\n",
       "  <thead>\n",
       "    <tr style=\"text-align: right;\">\n",
       "      <th></th>\n",
       "      <th>Global_active_power</th>\n",
       "      <th>Global_reactive_power</th>\n",
       "      <th>Voltage</th>\n",
       "      <th>Global_intensity</th>\n",
       "      <th>Sub_metering_1</th>\n",
       "      <th>Sub_metering_2</th>\n",
       "      <th>Sub_metering_3</th>\n",
       "    </tr>\n",
       "  </thead>\n",
       "  <tbody>\n",
       "    <tr>\n",
       "      <th>count</th>\n",
       "      <td>2049280.00</td>\n",
       "      <td>2049280.00</td>\n",
       "      <td>2049280.00</td>\n",
       "      <td>2049280.00</td>\n",
       "      <td>2049280.00</td>\n",
       "      <td>2049280.00</td>\n",
       "      <td>2049280.00</td>\n",
       "    </tr>\n",
       "    <tr>\n",
       "      <th>mean</th>\n",
       "      <td>1.09</td>\n",
       "      <td>0.12</td>\n",
       "      <td>240.84</td>\n",
       "      <td>4.63</td>\n",
       "      <td>1.12</td>\n",
       "      <td>1.30</td>\n",
       "      <td>6.46</td>\n",
       "    </tr>\n",
       "    <tr>\n",
       "      <th>std</th>\n",
       "      <td>1.06</td>\n",
       "      <td>0.11</td>\n",
       "      <td>3.24</td>\n",
       "      <td>4.44</td>\n",
       "      <td>6.15</td>\n",
       "      <td>5.82</td>\n",
       "      <td>8.44</td>\n",
       "    </tr>\n",
       "    <tr>\n",
       "      <th>min</th>\n",
       "      <td>0.08</td>\n",
       "      <td>0.00</td>\n",
       "      <td>223.20</td>\n",
       "      <td>0.20</td>\n",
       "      <td>0.00</td>\n",
       "      <td>0.00</td>\n",
       "      <td>0.00</td>\n",
       "    </tr>\n",
       "    <tr>\n",
       "      <th>25%</th>\n",
       "      <td>0.31</td>\n",
       "      <td>0.05</td>\n",
       "      <td>238.99</td>\n",
       "      <td>1.40</td>\n",
       "      <td>0.00</td>\n",
       "      <td>0.00</td>\n",
       "      <td>0.00</td>\n",
       "    </tr>\n",
       "    <tr>\n",
       "      <th>50%</th>\n",
       "      <td>0.60</td>\n",
       "      <td>0.10</td>\n",
       "      <td>241.01</td>\n",
       "      <td>2.60</td>\n",
       "      <td>0.00</td>\n",
       "      <td>0.00</td>\n",
       "      <td>1.00</td>\n",
       "    </tr>\n",
       "    <tr>\n",
       "      <th>75%</th>\n",
       "      <td>1.53</td>\n",
       "      <td>0.19</td>\n",
       "      <td>242.89</td>\n",
       "      <td>6.40</td>\n",
       "      <td>0.00</td>\n",
       "      <td>1.00</td>\n",
       "      <td>17.00</td>\n",
       "    </tr>\n",
       "    <tr>\n",
       "      <th>max</th>\n",
       "      <td>11.12</td>\n",
       "      <td>1.39</td>\n",
       "      <td>254.15</td>\n",
       "      <td>48.40</td>\n",
       "      <td>88.00</td>\n",
       "      <td>80.00</td>\n",
       "      <td>31.00</td>\n",
       "    </tr>\n",
       "  </tbody>\n",
       "</table>\n",
       "</div>"
      ],
      "text/plain": [
       "       Global_active_power  Global_reactive_power    Voltage  \\\n",
       "count           2049280.00             2049280.00 2049280.00   \n",
       "mean                  1.09                   0.12     240.84   \n",
       "std                   1.06                   0.11       3.24   \n",
       "min                   0.08                   0.00     223.20   \n",
       "25%                   0.31                   0.05     238.99   \n",
       "50%                   0.60                   0.10     241.01   \n",
       "75%                   1.53                   0.19     242.89   \n",
       "max                  11.12                   1.39     254.15   \n",
       "\n",
       "       Global_intensity  Sub_metering_1  Sub_metering_2  Sub_metering_3  \n",
       "count        2049280.00      2049280.00      2049280.00      2049280.00  \n",
       "mean               4.63            1.12            1.30            6.46  \n",
       "std                4.44            6.15            5.82            8.44  \n",
       "min                0.20            0.00            0.00            0.00  \n",
       "25%                1.40            0.00            0.00            0.00  \n",
       "50%                2.60            0.00            0.00            1.00  \n",
       "75%                6.40            0.00            1.00           17.00  \n",
       "max               48.40           88.00           80.00           31.00  "
      ]
     },
     "execution_count": 39,
     "metadata": {},
     "output_type": "execute_result"
    }
   ],
   "source": [
    "df_raw.describe()"
   ]
  },
  {
   "cell_type": "code",
   "execution_count": 37,
   "id": "aeac698b",
   "metadata": {
    "ExecuteTime": {
     "end_time": "2021-12-20T10:06:56.939002Z",
     "start_time": "2021-12-20T10:06:56.911000Z"
    },
    "hidden": true
   },
   "outputs": [
    {
     "data": {
      "text/html": [
       "<div>\n",
       "<style scoped>\n",
       "    .dataframe tbody tr th:only-of-type {\n",
       "        vertical-align: middle;\n",
       "    }\n",
       "\n",
       "    .dataframe tbody tr th {\n",
       "        vertical-align: top;\n",
       "    }\n",
       "\n",
       "    .dataframe thead th {\n",
       "        text-align: right;\n",
       "    }\n",
       "</style>\n",
       "<table border=\"1\" class=\"dataframe\">\n",
       "  <thead>\n",
       "    <tr style=\"text-align: right;\">\n",
       "      <th></th>\n",
       "      <th>Date</th>\n",
       "      <th>Time</th>\n",
       "      <th>Global_active_power</th>\n",
       "      <th>Global_reactive_power</th>\n",
       "      <th>Voltage</th>\n",
       "      <th>Global_intensity</th>\n",
       "      <th>Sub_metering_1</th>\n",
       "      <th>Sub_metering_2</th>\n",
       "      <th>Sub_metering_3</th>\n",
       "    </tr>\n",
       "  </thead>\n",
       "  <tbody>\n",
       "  </tbody>\n",
       "</table>\n",
       "</div>"
      ],
      "text/plain": [
       "Empty DataFrame\n",
       "Columns: [Date, Time, Global_active_power, Global_reactive_power, Voltage, Global_intensity, Sub_metering_1, Sub_metering_2, Sub_metering_3]\n",
       "Index: []"
      ]
     },
     "execution_count": 37,
     "metadata": {},
     "output_type": "execute_result"
    }
   ],
   "source": [
    "# df_raw.isnull().sum()\n",
    "# df_raw.isna().sum()\n",
    "data_null = df_raw[df_raw['Global_active_power'].isnull()]\n",
    "data_null"
   ]
  },
  {
   "cell_type": "markdown",
   "id": "b92f8bff",
   "metadata": {
    "ExecuteTime": {
     "end_time": "2021-12-20T09:41:32.099482Z",
     "start_time": "2021-12-20T09:41:32.090481Z"
    },
    "heading_collapsed": true,
    "hidden": true
   },
   "source": [
    "## Outliers"
   ]
  },
  {
   "cell_type": "markdown",
   "id": "377b00d4",
   "metadata": {
    "ExecuteTime": {
     "end_time": "2021-12-20T09:41:32.099482Z",
     "start_time": "2021-12-20T09:41:32.090481Z"
    },
    "hidden": true
   },
   "source": [
    "## Distributions"
   ]
  },
  {
   "cell_type": "code",
   "execution_count": 15,
   "id": "57e5ac7e",
   "metadata": {
    "ExecuteTime": {
     "end_time": "2021-12-20T13:06:39.836994Z",
     "start_time": "2021-12-20T13:06:39.794001Z"
    },
    "hidden": true
   },
   "outputs": [
    {
     "ename": "AttributeError",
     "evalue": "module 'seaborn' has no attribute 'distplot'",
     "output_type": "error",
     "traceback": [
      "\u001b[1;31m---------------------------------------------------------------------------\u001b[0m",
      "\u001b[1;31mAttributeError\u001b[0m                            Traceback (most recent call last)",
      "\u001b[1;32mC:\\Users\\UTILIS~1\\AppData\\Local\\Temp/ipykernel_11328/1635563191.py\u001b[0m in \u001b[0;36m<module>\u001b[1;34m\u001b[0m\n\u001b[0;32m     14\u001b[0m \u001b[1;32mfor\u001b[0m \u001b[0mcol\u001b[0m \u001b[1;32min\u001b[0m \u001b[0mdf_raw\u001b[0m\u001b[1;33m:\u001b[0m\u001b[1;33m\u001b[0m\u001b[1;33m\u001b[0m\u001b[0m\n\u001b[0;32m     15\u001b[0m     \u001b[0mplt\u001b[0m\u001b[1;33m.\u001b[0m\u001b[0mfigure\u001b[0m\u001b[1;33m(\u001b[0m\u001b[1;33m)\u001b[0m\u001b[1;33m\u001b[0m\u001b[1;33m\u001b[0m\u001b[0m\n\u001b[1;32m---> 16\u001b[1;33m     \u001b[0msns\u001b[0m\u001b[1;33m.\u001b[0m\u001b[0mdistplot\u001b[0m\u001b[1;33m(\u001b[0m\u001b[0mdf_raw\u001b[0m\u001b[1;33m[\u001b[0m\u001b[0mcol\u001b[0m\u001b[1;33m]\u001b[0m\u001b[1;33m,\u001b[0m \u001b[0mkde\u001b[0m\u001b[1;33m=\u001b[0m\u001b[1;32mTrue\u001b[0m\u001b[1;33m)\u001b[0m\u001b[1;33m\u001b[0m\u001b[1;33m\u001b[0m\u001b[0m\n\u001b[0m",
      "\u001b[1;31mAttributeError\u001b[0m: module 'seaborn' has no attribute 'distplot'"
     ]
    },
    {
     "data": {
      "text/plain": [
       "<Figure size 432x288 with 0 Axes>"
      ]
     },
     "metadata": {},
     "output_type": "display_data"
    }
   ],
   "source": [
    "# Distribution gaussienne pour toutes les features (RAS)\n",
    "# Operating Profit Rate / Operating Expense Rate (beaucoup de zero)\n",
    "\n",
    "# df['Net Income Flag'].value_counts() = Il n'y a que des 1 / drop\n",
    "\n",
    "# Liability-Assets Flag = 0.14 de corrélation / 8 valeur en 1 dont 6 qui influence bankrupt en 1 / On laisse la colonne pour l'instant\n",
    "# df_new = df[(df['Interest-bearing debt interest rate']>0.01) & (df['Liability-Assets Flag']<0.99)]\n",
    "# df_new = df \n",
    "# print(df_new['Liability-Assets Flag'].value_counts())\n",
    "# print(df_new['Bankrupt?'].value_counts())\n",
    "# print(df_new.shape)\n",
    "\n",
    "\n",
    "for col in df_raw:\n",
    "    plt.figure()\n",
    "    sns.distplot(df_raw[col], kde=True)"
   ]
  },
  {
   "cell_type": "markdown",
   "id": "38e0c5f5",
   "metadata": {
    "ExecuteTime": {
     "end_time": "2021-12-20T09:41:32.099482Z",
     "start_time": "2021-12-20T09:41:32.090481Z"
    },
    "hidden": true
   },
   "source": [
    "## Corrélations / Feature selection / permutation"
   ]
  },
  {
   "cell_type": "code",
   "execution_count": 29,
   "id": "188cbe0f",
   "metadata": {
    "ExecuteTime": {
     "end_time": "2021-12-20T13:44:46.876420Z",
     "start_time": "2021-12-20T13:44:46.384568Z"
    },
    "hidden": true
   },
   "outputs": [
    {
     "data": {
      "text/html": [
       "<style  type=\"text/css\" >\n",
       "    #T_fec1f38e_619a_11ec_90c4_94659c9839farow0_col0 {\n",
       "            background-color:  #b40426;\n",
       "            color:  #f1f1f1;\n",
       "        }    #T_fec1f38e_619a_11ec_90c4_94659c9839farow0_col1 {\n",
       "            background-color:  #a6c4fe;\n",
       "            color:  #000000;\n",
       "        }    #T_fec1f38e_619a_11ec_90c4_94659c9839farow0_col2 {\n",
       "            background-color:  #3d50c3;\n",
       "            color:  #f1f1f1;\n",
       "        }    #T_fec1f38e_619a_11ec_90c4_94659c9839farow0_col3 {\n",
       "            background-color:  #b40426;\n",
       "            color:  #f1f1f1;\n",
       "        }    #T_fec1f38e_619a_11ec_90c4_94659c9839farow0_col4 {\n",
       "            background-color:  #edd2c3;\n",
       "            color:  #000000;\n",
       "        }    #T_fec1f38e_619a_11ec_90c4_94659c9839farow0_col5 {\n",
       "            background-color:  #e1dad6;\n",
       "            color:  #000000;\n",
       "        }    #T_fec1f38e_619a_11ec_90c4_94659c9839farow0_col6 {\n",
       "            background-color:  #f7a688;\n",
       "            color:  #000000;\n",
       "        }    #T_fec1f38e_619a_11ec_90c4_94659c9839farow1_col0 {\n",
       "            background-color:  #d3dbe7;\n",
       "            color:  #000000;\n",
       "        }    #T_fec1f38e_619a_11ec_90c4_94659c9839farow1_col1 {\n",
       "            background-color:  #b40426;\n",
       "            color:  #f1f1f1;\n",
       "        }    #T_fec1f38e_619a_11ec_90c4_94659c9839farow1_col2 {\n",
       "            background-color:  #80a3fa;\n",
       "            color:  #000000;\n",
       "        }    #T_fec1f38e_619a_11ec_90c4_94659c9839farow1_col3 {\n",
       "            background-color:  #d7dce3;\n",
       "            color:  #000000;\n",
       "        }    #T_fec1f38e_619a_11ec_90c4_94659c9839farow1_col4 {\n",
       "            background-color:  #93b5fe;\n",
       "            color:  #000000;\n",
       "        }    #T_fec1f38e_619a_11ec_90c4_94659c9839farow1_col5 {\n",
       "            background-color:  #92b4fe;\n",
       "            color:  #000000;\n",
       "        }    #T_fec1f38e_619a_11ec_90c4_94659c9839farow1_col6 {\n",
       "            background-color:  #98b9ff;\n",
       "            color:  #000000;\n",
       "        }    #T_fec1f38e_619a_11ec_90c4_94659c9839farow2_col0 {\n",
       "            background-color:  #3b4cc0;\n",
       "            color:  #f1f1f1;\n",
       "        }    #T_fec1f38e_619a_11ec_90c4_94659c9839farow2_col1 {\n",
       "            background-color:  #3b4cc0;\n",
       "            color:  #f1f1f1;\n",
       "        }    #T_fec1f38e_619a_11ec_90c4_94659c9839farow2_col2 {\n",
       "            background-color:  #b40426;\n",
       "            color:  #f1f1f1;\n",
       "        }    #T_fec1f38e_619a_11ec_90c4_94659c9839farow2_col3 {\n",
       "            background-color:  #3b4cc0;\n",
       "            color:  #f1f1f1;\n",
       "        }    #T_fec1f38e_619a_11ec_90c4_94659c9839farow2_col4 {\n",
       "            background-color:  #3b4cc0;\n",
       "            color:  #f1f1f1;\n",
       "        }    #T_fec1f38e_619a_11ec_90c4_94659c9839farow2_col5 {\n",
       "            background-color:  #3b4cc0;\n",
       "            color:  #f1f1f1;\n",
       "        }    #T_fec1f38e_619a_11ec_90c4_94659c9839farow2_col6 {\n",
       "            background-color:  #3b4cc0;\n",
       "            color:  #f1f1f1;\n",
       "        }    #T_fec1f38e_619a_11ec_90c4_94659c9839farow3_col0 {\n",
       "            background-color:  #b40426;\n",
       "            color:  #f1f1f1;\n",
       "        }    #T_fec1f38e_619a_11ec_90c4_94659c9839farow3_col1 {\n",
       "            background-color:  #adc9fd;\n",
       "            color:  #000000;\n",
       "        }    #T_fec1f38e_619a_11ec_90c4_94659c9839farow3_col2 {\n",
       "            background-color:  #3b4cc0;\n",
       "            color:  #f1f1f1;\n",
       "        }    #T_fec1f38e_619a_11ec_90c4_94659c9839farow3_col3 {\n",
       "            background-color:  #b40426;\n",
       "            color:  #f1f1f1;\n",
       "        }    #T_fec1f38e_619a_11ec_90c4_94659c9839farow3_col4 {\n",
       "            background-color:  #edd1c2;\n",
       "            color:  #000000;\n",
       "        }    #T_fec1f38e_619a_11ec_90c4_94659c9839farow3_col5 {\n",
       "            background-color:  #e2dad5;\n",
       "            color:  #000000;\n",
       "        }    #T_fec1f38e_619a_11ec_90c4_94659c9839farow3_col6 {\n",
       "            background-color:  #f7aa8c;\n",
       "            color:  #000000;\n",
       "        }    #T_fec1f38e_619a_11ec_90c4_94659c9839farow4_col0 {\n",
       "            background-color:  #f5c2aa;\n",
       "            color:  #000000;\n",
       "        }    #T_fec1f38e_619a_11ec_90c4_94659c9839farow4_col1 {\n",
       "            background-color:  #80a3fa;\n",
       "            color:  #000000;\n",
       "        }    #T_fec1f38e_619a_11ec_90c4_94659c9839farow4_col2 {\n",
       "            background-color:  #6b8df0;\n",
       "            color:  #000000;\n",
       "        }    #T_fec1f38e_619a_11ec_90c4_94659c9839farow4_col3 {\n",
       "            background-color:  #f5c0a7;\n",
       "            color:  #000000;\n",
       "        }    #T_fec1f38e_619a_11ec_90c4_94659c9839farow4_col4 {\n",
       "            background-color:  #b40426;\n",
       "            color:  #f1f1f1;\n",
       "        }    #T_fec1f38e_619a_11ec_90c4_94659c9839farow4_col5 {\n",
       "            background-color:  #779af7;\n",
       "            color:  #000000;\n",
       "        }    #T_fec1f38e_619a_11ec_90c4_94659c9839farow4_col6 {\n",
       "            background-color:  #9bbcff;\n",
       "            color:  #000000;\n",
       "        }    #T_fec1f38e_619a_11ec_90c4_94659c9839farow5_col0 {\n",
       "            background-color:  #f1ccb8;\n",
       "            color:  #000000;\n",
       "        }    #T_fec1f38e_619a_11ec_90c4_94659c9839farow5_col1 {\n",
       "            background-color:  #84a7fc;\n",
       "            color:  #000000;\n",
       "        }    #T_fec1f38e_619a_11ec_90c4_94659c9839farow5_col2 {\n",
       "            background-color:  #7295f4;\n",
       "            color:  #000000;\n",
       "        }    #T_fec1f38e_619a_11ec_90c4_94659c9839farow5_col3 {\n",
       "            background-color:  #f2cab5;\n",
       "            color:  #000000;\n",
       "        }    #T_fec1f38e_619a_11ec_90c4_94659c9839farow5_col4 {\n",
       "            background-color:  #7ea1fa;\n",
       "            color:  #000000;\n",
       "        }    #T_fec1f38e_619a_11ec_90c4_94659c9839farow5_col5 {\n",
       "            background-color:  #b40426;\n",
       "            color:  #f1f1f1;\n",
       "        }    #T_fec1f38e_619a_11ec_90c4_94659c9839farow5_col6 {\n",
       "            background-color:  #96b7ff;\n",
       "            color:  #000000;\n",
       "        }    #T_fec1f38e_619a_11ec_90c4_94659c9839farow6_col0 {\n",
       "            background-color:  #f59d7e;\n",
       "            color:  #000000;\n",
       "        }    #T_fec1f38e_619a_11ec_90c4_94659c9839farow6_col1 {\n",
       "            background-color:  #7597f6;\n",
       "            color:  #000000;\n",
       "        }    #T_fec1f38e_619a_11ec_90c4_94659c9839farow6_col2 {\n",
       "            background-color:  #5977e3;\n",
       "            color:  #000000;\n",
       "        }    #T_fec1f38e_619a_11ec_90c4_94659c9839farow6_col3 {\n",
       "            background-color:  #f59f80;\n",
       "            color:  #000000;\n",
       "        }    #T_fec1f38e_619a_11ec_90c4_94659c9839farow6_col4 {\n",
       "            background-color:  #8caffe;\n",
       "            color:  #000000;\n",
       "        }    #T_fec1f38e_619a_11ec_90c4_94659c9839farow6_col5 {\n",
       "            background-color:  #80a3fa;\n",
       "            color:  #000000;\n",
       "        }    #T_fec1f38e_619a_11ec_90c4_94659c9839farow6_col6 {\n",
       "            background-color:  #b40426;\n",
       "            color:  #f1f1f1;\n",
       "        }</style><table id=\"T_fec1f38e_619a_11ec_90c4_94659c9839fa\" ><thead>    <tr>        <th class=\"blank level0\" ></th>        <th class=\"col_heading level0 col0\" >Global_active_power</th>        <th class=\"col_heading level0 col1\" >Global_reactive_power</th>        <th class=\"col_heading level0 col2\" >Voltage</th>        <th class=\"col_heading level0 col3\" >Global_intensity</th>        <th class=\"col_heading level0 col4\" >Sub_metering_1</th>        <th class=\"col_heading level0 col5\" >Sub_metering_2</th>        <th class=\"col_heading level0 col6\" >Sub_metering_3</th>    </tr></thead><tbody>\n",
       "                <tr>\n",
       "                        <th id=\"T_fec1f38e_619a_11ec_90c4_94659c9839falevel0_row0\" class=\"row_heading level0 row0\" >Global_active_power</th>\n",
       "                        <td id=\"T_fec1f38e_619a_11ec_90c4_94659c9839farow0_col0\" class=\"data row0 col0\" >1.000000</td>\n",
       "                        <td id=\"T_fec1f38e_619a_11ec_90c4_94659c9839farow0_col1\" class=\"data row0 col1\" >0.247017</td>\n",
       "                        <td id=\"T_fec1f38e_619a_11ec_90c4_94659c9839farow0_col2\" class=\"data row0 col2\" >-0.399762</td>\n",
       "                        <td id=\"T_fec1f38e_619a_11ec_90c4_94659c9839farow0_col3\" class=\"data row0 col3\" >0.998889</td>\n",
       "                        <td id=\"T_fec1f38e_619a_11ec_90c4_94659c9839farow0_col4\" class=\"data row0 col4\" >0.484401</td>\n",
       "                        <td id=\"T_fec1f38e_619a_11ec_90c4_94659c9839farow0_col5\" class=\"data row0 col5\" >0.434569</td>\n",
       "                        <td id=\"T_fec1f38e_619a_11ec_90c4_94659c9839farow0_col6\" class=\"data row0 col6\" >0.638555</td>\n",
       "            </tr>\n",
       "            <tr>\n",
       "                        <th id=\"T_fec1f38e_619a_11ec_90c4_94659c9839falevel0_row1\" class=\"row_heading level0 row1\" >Global_reactive_power</th>\n",
       "                        <td id=\"T_fec1f38e_619a_11ec_90c4_94659c9839farow1_col0\" class=\"data row1 col0\" >0.247017</td>\n",
       "                        <td id=\"T_fec1f38e_619a_11ec_90c4_94659c9839farow1_col1\" class=\"data row1 col1\" >1.000000</td>\n",
       "                        <td id=\"T_fec1f38e_619a_11ec_90c4_94659c9839farow1_col2\" class=\"data row1 col2\" >-0.112246</td>\n",
       "                        <td id=\"T_fec1f38e_619a_11ec_90c4_94659c9839farow1_col3\" class=\"data row1 col3\" >0.266120</td>\n",
       "                        <td id=\"T_fec1f38e_619a_11ec_90c4_94659c9839farow1_col4\" class=\"data row1 col4\" >0.123111</td>\n",
       "                        <td id=\"T_fec1f38e_619a_11ec_90c4_94659c9839farow1_col5\" class=\"data row1 col5\" >0.139231</td>\n",
       "                        <td id=\"T_fec1f38e_619a_11ec_90c4_94659c9839farow1_col6\" class=\"data row1 col6\" >0.089617</td>\n",
       "            </tr>\n",
       "            <tr>\n",
       "                        <th id=\"T_fec1f38e_619a_11ec_90c4_94659c9839falevel0_row2\" class=\"row_heading level0 row2\" >Voltage</th>\n",
       "                        <td id=\"T_fec1f38e_619a_11ec_90c4_94659c9839farow2_col0\" class=\"data row2 col0\" >-0.399762</td>\n",
       "                        <td id=\"T_fec1f38e_619a_11ec_90c4_94659c9839farow2_col1\" class=\"data row2 col1\" >-0.112246</td>\n",
       "                        <td id=\"T_fec1f38e_619a_11ec_90c4_94659c9839farow2_col2\" class=\"data row2 col2\" >1.000000</td>\n",
       "                        <td id=\"T_fec1f38e_619a_11ec_90c4_94659c9839farow2_col3\" class=\"data row2 col3\" >-0.411363</td>\n",
       "                        <td id=\"T_fec1f38e_619a_11ec_90c4_94659c9839farow2_col4\" class=\"data row2 col4\" >-0.195976</td>\n",
       "                        <td id=\"T_fec1f38e_619a_11ec_90c4_94659c9839farow2_col5\" class=\"data row2 col5\" >-0.167405</td>\n",
       "                        <td id=\"T_fec1f38e_619a_11ec_90c4_94659c9839farow2_col6\" class=\"data row2 col6\" >-0.268172</td>\n",
       "            </tr>\n",
       "            <tr>\n",
       "                        <th id=\"T_fec1f38e_619a_11ec_90c4_94659c9839falevel0_row3\" class=\"row_heading level0 row3\" >Global_intensity</th>\n",
       "                        <td id=\"T_fec1f38e_619a_11ec_90c4_94659c9839farow3_col0\" class=\"data row3 col0\" >0.998889</td>\n",
       "                        <td id=\"T_fec1f38e_619a_11ec_90c4_94659c9839farow3_col1\" class=\"data row3 col1\" >0.266120</td>\n",
       "                        <td id=\"T_fec1f38e_619a_11ec_90c4_94659c9839farow3_col2\" class=\"data row3 col2\" >-0.411363</td>\n",
       "                        <td id=\"T_fec1f38e_619a_11ec_90c4_94659c9839farow3_col3\" class=\"data row3 col3\" >1.000000</td>\n",
       "                        <td id=\"T_fec1f38e_619a_11ec_90c4_94659c9839farow3_col4\" class=\"data row3 col4\" >0.489298</td>\n",
       "                        <td id=\"T_fec1f38e_619a_11ec_90c4_94659c9839farow3_col5\" class=\"data row3 col5\" >0.440347</td>\n",
       "                        <td id=\"T_fec1f38e_619a_11ec_90c4_94659c9839farow3_col6\" class=\"data row3 col6\" >0.626543</td>\n",
       "            </tr>\n",
       "            <tr>\n",
       "                        <th id=\"T_fec1f38e_619a_11ec_90c4_94659c9839falevel0_row4\" class=\"row_heading level0 row4\" >Sub_metering_1</th>\n",
       "                        <td id=\"T_fec1f38e_619a_11ec_90c4_94659c9839farow4_col0\" class=\"data row4 col0\" >0.484401</td>\n",
       "                        <td id=\"T_fec1f38e_619a_11ec_90c4_94659c9839farow4_col1\" class=\"data row4 col1\" >0.123111</td>\n",
       "                        <td id=\"T_fec1f38e_619a_11ec_90c4_94659c9839farow4_col2\" class=\"data row4 col2\" >-0.195976</td>\n",
       "                        <td id=\"T_fec1f38e_619a_11ec_90c4_94659c9839farow4_col3\" class=\"data row4 col3\" >0.489298</td>\n",
       "                        <td id=\"T_fec1f38e_619a_11ec_90c4_94659c9839farow4_col4\" class=\"data row4 col4\" >1.000000</td>\n",
       "                        <td id=\"T_fec1f38e_619a_11ec_90c4_94659c9839farow4_col5\" class=\"data row4 col5\" >0.054721</td>\n",
       "                        <td id=\"T_fec1f38e_619a_11ec_90c4_94659c9839farow4_col6\" class=\"data row4 col6\" >0.102571</td>\n",
       "            </tr>\n",
       "            <tr>\n",
       "                        <th id=\"T_fec1f38e_619a_11ec_90c4_94659c9839falevel0_row5\" class=\"row_heading level0 row5\" >Sub_metering_2</th>\n",
       "                        <td id=\"T_fec1f38e_619a_11ec_90c4_94659c9839farow5_col0\" class=\"data row5 col0\" >0.434569</td>\n",
       "                        <td id=\"T_fec1f38e_619a_11ec_90c4_94659c9839farow5_col1\" class=\"data row5 col1\" >0.139231</td>\n",
       "                        <td id=\"T_fec1f38e_619a_11ec_90c4_94659c9839farow5_col2\" class=\"data row5 col2\" >-0.167405</td>\n",
       "                        <td id=\"T_fec1f38e_619a_11ec_90c4_94659c9839farow5_col3\" class=\"data row5 col3\" >0.440347</td>\n",
       "                        <td id=\"T_fec1f38e_619a_11ec_90c4_94659c9839farow5_col4\" class=\"data row5 col4\" >0.054721</td>\n",
       "                        <td id=\"T_fec1f38e_619a_11ec_90c4_94659c9839farow5_col5\" class=\"data row5 col5\" >1.000000</td>\n",
       "                        <td id=\"T_fec1f38e_619a_11ec_90c4_94659c9839farow5_col6\" class=\"data row5 col6\" >0.080872</td>\n",
       "            </tr>\n",
       "            <tr>\n",
       "                        <th id=\"T_fec1f38e_619a_11ec_90c4_94659c9839falevel0_row6\" class=\"row_heading level0 row6\" >Sub_metering_3</th>\n",
       "                        <td id=\"T_fec1f38e_619a_11ec_90c4_94659c9839farow6_col0\" class=\"data row6 col0\" >0.638555</td>\n",
       "                        <td id=\"T_fec1f38e_619a_11ec_90c4_94659c9839farow6_col1\" class=\"data row6 col1\" >0.089617</td>\n",
       "                        <td id=\"T_fec1f38e_619a_11ec_90c4_94659c9839farow6_col2\" class=\"data row6 col2\" >-0.268172</td>\n",
       "                        <td id=\"T_fec1f38e_619a_11ec_90c4_94659c9839farow6_col3\" class=\"data row6 col3\" >0.626543</td>\n",
       "                        <td id=\"T_fec1f38e_619a_11ec_90c4_94659c9839farow6_col4\" class=\"data row6 col4\" >0.102571</td>\n",
       "                        <td id=\"T_fec1f38e_619a_11ec_90c4_94659c9839farow6_col5\" class=\"data row6 col5\" >0.080872</td>\n",
       "                        <td id=\"T_fec1f38e_619a_11ec_90c4_94659c9839farow6_col6\" class=\"data row6 col6\" >1.000000</td>\n",
       "            </tr>\n",
       "    </tbody></table>"
      ],
      "text/plain": [
       "<pandas.io.formats.style.Styler at 0x2c002b27400>"
      ]
     },
     "execution_count": 29,
     "metadata": {},
     "output_type": "execute_result"
    }
   ],
   "source": [
    "df_raw.corr().style.background_gradient(cmap='coolwarm')"
   ]
  },
  {
   "cell_type": "markdown",
   "id": "7e4d1a1f",
   "metadata": {
    "ExecuteTime": {
     "end_time": "2021-12-20T09:41:32.099482Z",
     "start_time": "2021-12-20T09:41:32.090481Z"
    },
    "hidden": true
   },
   "source": [
    "## Scaling"
   ]
  },
  {
   "cell_type": "markdown",
   "id": "e8712e0a",
   "metadata": {
    "ExecuteTime": {
     "end_time": "2021-12-20T09:41:32.099482Z",
     "start_time": "2021-12-20T09:41:32.090481Z"
    },
    "hidden": true
   },
   "source": [
    "## Encoding"
   ]
  },
  {
   "cell_type": "markdown",
   "id": "fd697be5",
   "metadata": {},
   "source": [
    "# Modèle deep learning : LSTM DEEP AR"
   ]
  },
  {
   "cell_type": "markdown",
   "id": "6276707d",
   "metadata": {},
   "source": [
    "### Explications"
   ]
  },
  {
   "cell_type": "markdown",
   "id": "594c784e",
   "metadata": {},
   "source": [
    "An autoregressive recurrent neural net developed at Amazon  \n",
    "\n",
    "Il n’est plus question de savoir que la consommation énergétique d’un logement donné sera de 60 kWh demain mais plutôt qu’il y a 95% de chance que cette consommation se trouve entre 58 et 61 kWh. Les intervalles de confiance deviennent les nouveaux objectifs des modèles car ils permettent d’estimer les valeurs extrêmes, souvent principale motivation d’une prise de décision.  \n",
    "Récemment, de nouvelles méthodes de prédiction se sont développées afin de produire des modèles de prévision probabilistes. Parmi elles on trouve DeepAR, une méthodologie développée par Amazon AI dont le but est de produire des prévisions probabilistes grâce à un réseau de neurone autorégressif et récurrent entraîné sur une multitude de séries temporelles connexes."
   ]
  }
 ],
 "metadata": {
  "hide_input": false,
  "kernelspec": {
   "display_name": "Python 3 (ipykernel)",
   "language": "python",
   "name": "python3"
  },
  "language_info": {
   "codemirror_mode": {
    "name": "ipython",
    "version": 3
   },
   "file_extension": ".py",
   "mimetype": "text/x-python",
   "name": "python",
   "nbconvert_exporter": "python",
   "pygments_lexer": "ipython3",
   "version": "3.8.12"
  },
  "toc": {
   "base_numbering": 1,
   "nav_menu": {},
   "number_sections": false,
   "sideBar": true,
   "skip_h1_title": false,
   "title_cell": "Table of Contents",
   "title_sidebar": "Contents",
   "toc_cell": false,
   "toc_position": {},
   "toc_section_display": true,
   "toc_window_display": false
  }
 },
 "nbformat": 4,
 "nbformat_minor": 5
}
