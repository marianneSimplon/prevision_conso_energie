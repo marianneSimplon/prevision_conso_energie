{
 "cells": [
  {
   "cell_type": "markdown",
   "id": "39fbbb58",
   "metadata": {
    "toc": true
   },
   "source": [
    "<h1>Table of Contents<span class=\"tocSkip\"></span></h1>\n",
    "<div class=\"toc\"><ul class=\"toc-item\"><li><span><a href=\"#Développez-un-outil-de-prévision-de-la-consommation-d'énergie\" data-toc-modified-id=\"Développez-un-outil-de-prévision-de-la-consommation-d'énergie-1\">Développez un outil de prévision de la consommation d'énergie</a></span><ul class=\"toc-item\"><li><span><a href=\"#Livrables\" data-toc-modified-id=\"Livrables-1.1\">Livrables</a></span></li></ul></li><li><span><a href=\"#Planning\" data-toc-modified-id=\"Planning-2\">Planning</a></span><ul class=\"toc-item\"><li><span><a href=\"#20-/-12\" data-toc-modified-id=\"20-/-12-2.1\">20 / 12</a></span></li></ul></li></ul></div>"
   ]
  },
  {
   "cell_type": "markdown",
   "id": "c9c76d3d",
   "metadata": {},
   "source": [
    "# Développez un outil de prévision de la consommation d'énergie"
   ]
  },
  {
   "cell_type": "markdown",
   "id": "1ceb001b",
   "metadata": {},
   "source": [
    "_L'objectif de ce projet est de créer un outil de prédiction de la consommation d'énergie en utilisant des réseaux neuronaux récurrents._\n",
    "\n",
    "\n",
    "**Contexte du projet**\n",
    "\n",
    "Vous travaillez dans l'équipe data d'un fournisseur d'éléctricité qui cherche à se moderniser avec des outils d'Intelligence Artificielle. Vous devez travailler avec votre équipe pour proposer un réseau de neurones récurrents qui permet de prédire la consommation d'énergie de vos clients et anticiper les besoins du marché en termes d'énergie.\n",
    "\n",
    "Vous disposez de deux sources de données. La première source vous permettra de vous initier aux prévisions sur la consommation d'une maison. La deuxième source contient une base de données proche de la réalité avec la consommation de plusieurs maisons.\n",
    "\n",
    "C'est à vous de décider comment vous allez utiliser ces données pour réaliser votre modèle de prédiction. Pour cela, vous devez suivre les instructions de votre chef d'équipe pour réaliser au mieux ce projet.\n",
    "\n",
    "**Modalités pédagogiques**<br>  \n",
    "Date limite : 07/01/2022\n",
    "\n",
    "Pensez bien à créer un fichier .gitignore pour éviter de stocker les données dans le repository.\n",
    "\n",
    "**Modalités d'évaluation**<br> \n",
    "* Auto-évaluation avec charte de réflexivité\n",
    "* Présentation orale - 20 min (Q/A inclus)\n",
    "* Pré-planning du projet\n",
    "* Code review via github\n",
    "* Pensez à faire une bonne répartition des tâches et faire une présentation en équipe.\n",
    "\n",
    "**Critères de performance**<br> \n",
    "* compréhension du jeux de données\n",
    "* performance des modèles de prédiction\n",
    "* capacité à apporter une solution dans le temps imparti\n",
    "* qualité du synthèse du travail\n",
    "\n",
    "\n",
    "\n",
    "Equipe 1:\n",
    "* Nasreddine (chef d'équipe)\n",
    "* Youcef\n",
    "* Théo\n",
    "* Véronique\n",
    "* Cédric\n",
    "\n",
    "Equipe 2:\n",
    "* Mélody (chef d'équipe)\n",
    "* Matthis\n",
    "* Zohra\n",
    "* Adil  \n",
    "\n",
    "Equipe 3:\n",
    "* Jonathan (chef d'équipe)\n",
    "* Marianne\n",
    "* Nidal\n",
    "* Clément\n",
    "\n",
    "\n",
    "Equipe 4:\n",
    "* Salma (chef d'équipe)\n",
    "* Cyril\n",
    "* Eden\n",
    "* Imen"
   ]
  },
  {
   "cell_type": "markdown",
   "id": "ee0da2d0",
   "metadata": {},
   "source": [
    "## Livrables"
   ]
  },
  {
   "cell_type": "markdown",
   "id": "908e69c5",
   "metadata": {},
   "source": [
    "* créer un repo git et un espace sur github/gitlab pour le projet (code refactorisé)\n",
    "* présenter un planning de travail\n",
    "* présenter un analyse de données (notebook_EDA)\n",
    "* présenter la procédure suivi pour trouver un modèle adapté (notebook_model)\n",
    "* créer un modèle d'IA entraîné et adapté au problème (format pickle ou h5)\n",
    "* faire une présentation qui explique votre démarche et les résultats obtenus \n",
    "* Bonus: créer et présenter l'interface utilisateur"
   ]
  },
  {
   "cell_type": "markdown",
   "id": "8678833d",
   "metadata": {},
   "source": [
    "# Planning"
   ]
  },
  {
   "cell_type": "markdown",
   "id": "e9386f4a",
   "metadata": {},
   "source": [
    "## 20 / 12"
   ]
  },
  {
   "cell_type": "markdown",
   "id": "7513cdac",
   "metadata": {},
   "source": [
    "- ~~Création du repo git et un espace sur github/gitlab pour le projet~~"
   ]
  }
 ],
 "metadata": {
  "hide_input": false,
  "kernelspec": {
   "display_name": "Python 3 (ipykernel)",
   "language": "python",
   "name": "python3"
  },
  "language_info": {
   "codemirror_mode": {
    "name": "ipython",
    "version": 3
   },
   "file_extension": ".py",
   "mimetype": "text/x-python",
   "name": "python",
   "nbconvert_exporter": "python",
   "pygments_lexer": "ipython3",
   "version": "3.8.12"
  },
  "toc": {
   "base_numbering": 1,
   "nav_menu": {},
   "number_sections": false,
   "sideBar": true,
   "skip_h1_title": false,
   "title_cell": "Table of Contents",
   "title_sidebar": "Contents",
   "toc_cell": true,
   "toc_position": {},
   "toc_section_display": true,
   "toc_window_display": false
  }
 },
 "nbformat": 4,
 "nbformat_minor": 5
}
